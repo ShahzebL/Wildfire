{
 "cells": [
  {
   "cell_type": "code",
   "execution_count": 2,
   "id": "02e0c3b3",
   "metadata": {},
   "outputs": [],
   "source": [
    "import cfo\n",
    "forest = cfo.api()"
   ]
  },
  {
   "cell_type": "code",
   "execution_count": 3,
   "id": "36fa4290",
   "metadata": {},
   "outputs": [
    {
     "name": "stdout",
     "output_type": "stream",
     "text": [
      "2021-11-23 13:06:29,941 WARNING cfo.utils [list_geographies] | Unsupported category: None\n",
      "2021-11-23 13:06:29,943 WARNING cfo.utils [list_geographies] | Must be one of State, County, Municipality, Watershed\n"
     ]
    }
   ],
   "source": [
    "forest.list_geographies()"
   ]
  },
  {
   "cell_type": "code",
   "execution_count": 4,
   "id": "2a988728",
   "metadata": {},
   "outputs": [
    {
     "data": {
      "text/plain": [
       "['Vegetation', 'Wildfire', 'Weather']"
      ]
     },
     "execution_count": 4,
     "metadata": {},
     "output_type": "execute_result"
    }
   ],
   "source": [
    "forest.list_categories()"
   ]
  },
  {
   "cell_type": "code",
   "execution_count": 5,
   "id": "111ce56c",
   "metadata": {},
   "outputs": [
    {
     "data": {
      "text/plain": [
       "{'Vegetation': ['CanopyHeight',\n",
       "  'CanopyCover',\n",
       "  'CanopyBaseHeight',\n",
       "  'CanopyBulkDensity',\n",
       "  'CanopyLayerCount',\n",
       "  'LadderFuelDensity',\n",
       "  'SurfaceFuels'],\n",
       " 'Wildfire': ['Hazard', 'Exposure'],\n",
       " 'Weather': ['Temperature', 'Humidity', 'WindDirection', 'WindSpeed']}"
      ]
     },
     "execution_count": 5,
     "metadata": {},
     "output_type": "execute_result"
    }
   ],
   "source": [
    "forest.list_metrics()"
   ]
  },
  {
   "cell_type": "code",
   "execution_count": 11,
   "id": "e76e6ad5",
   "metadata": {},
   "outputs": [
    {
     "data": {
      "text/plain": [
       "(['California-Wildfire-Hazard-2020-Summer-00010m'],\n",
       " ['California-Wildfire-Exposure-2021-0910-00150m',\n",
       "  'California-Wildfire-Exposure-2021-0909-00150m',\n",
       "  'California-Wildfire-Exposure-2021-0912-00150m',\n",
       "  'California-Wildfire-Exposure-2021-0907-00150m',\n",
       "  'California-Wildfire-Exposure-2021-0911-00150m',\n",
       "  'California-Wildfire-Exposure-2021-0908-00150m',\n",
       "  'California-Wildfire-Exposure-2021-0913-00150m',\n",
       "  'California-Wildfire-Exposure-2021-0918-00150m',\n",
       "  'California-Wildfire-Exposure-2021-0920-00150m',\n",
       "  'California-Wildfire-Exposure-2021-0921-00150m',\n",
       "  'California-Wildfire-Exposure-2021-0917-00150m',\n",
       "  'California-Wildfire-Exposure-2021-0916-00150m',\n",
       "  'California-Wildfire-Exposure-2021-0923-00150m',\n",
       "  'California-Wildfire-Exposure-2021-0919-00150m',\n",
       "  'California-Wildfire-Exposure-2021-0922-00150m',\n",
       "  'California-Wildfire-Exposure-2021-0924-00150m',\n",
       "  'California-Wildfire-Exposure-2021-0925-00150m',\n",
       "  'California-Wildfire-Exposure-2021-0928-00150m',\n",
       "  'California-Wildfire-Exposure-2021-1002-00150m',\n",
       "  'California-Wildfire-Exposure-2021-1006-00150m',\n",
       "  'California-Wildfire-Exposure-2021-1007-00150m',\n",
       "  'California-Wildfire-Exposure-2021-0930-00150m',\n",
       "  'California-Wildfire-Exposure-2021-1003-00150m',\n",
       "  'California-Wildfire-Exposure-2021-0926-00150m',\n",
       "  'California-Wildfire-Exposure-2021-0927-00150m',\n",
       "  'California-Wildfire-Exposure-2021-0929-00150m',\n",
       "  'California-Wildfire-Exposure-2021-1004-00150m',\n",
       "  'California-Wildfire-Exposure-2021-1005-00150m',\n",
       "  'California-Wildfire-Exposure-2021-1009-00150m',\n",
       "  'California-Wildfire-Exposure-2021-1001-00150m',\n",
       "  'California-Wildfire-Exposure-2021-1008-00150m',\n",
       "  'California-Wildfire-Exposure-2021-1010-00150m',\n",
       "  'California-Wildfire-Exposure-2021-1015-00150m',\n",
       "  'California-Wildfire-Exposure-2021-1014-00150m',\n",
       "  'California-Wildfire-Exposure-2021-1013-00150m',\n",
       "  'California-Wildfire-Exposure-2021-1012-00150m'])"
      ]
     },
     "execution_count": 11,
     "metadata": {},
     "output_type": "execute_result"
    }
   ],
   "source": [
    "forest.search(metric=\"Hazard\"), forest.search(metric=\"Exposure\")"
   ]
  },
  {
   "cell_type": "code",
   "execution_count": 6,
   "id": "9e53ba07",
   "metadata": {},
   "outputs": [
    {
     "name": "stdout",
     "output_type": "stream",
     "text": [
      "CFO E-mail: shahzeb.lakhani@gmail.com\n",
      "CFO Password: ········\n"
     ]
    }
   ],
   "source": [
    "asset_ids = forest.search(geography=\"MendocinoCounty\")"
   ]
  },
  {
   "cell_type": "code",
   "execution_count": 7,
   "id": "f17d6b38",
   "metadata": {},
   "outputs": [
    {
     "data": {
      "text/plain": [
       "['MendocinoCounty-Vegetation-CanopyBaseHeight-2020-Summer-00010m',\n",
       " 'MendocinoCounty-Vegetation-LadderFuelDensity-2020-Summer-00010m',\n",
       " 'MendocinoCounty-Vegetation-CanopyBulkDensity-2020-Summer-00010m',\n",
       " 'MendocinoCounty-Vegetation-CanopyCover-2020-Summer-00010m',\n",
       " 'MendocinoCounty-Vegetation-CanopyHeight-2020-Summer-00010m',\n",
       " 'MendocinoCounty-Vegetation-CanopyLayerCount-2020-Summer-00010m',\n",
       " 'MendocinoCounty-Vegetation-SurfaceFuels-2020-Summer-00010m']"
      ]
     },
     "execution_count": 7,
     "metadata": {},
     "output_type": "execute_result"
    }
   ],
   "source": [
    "asset_ids"
   ]
  },
  {
   "cell_type": "code",
   "execution_count": 12,
   "id": "48e5f7d5",
   "metadata": {},
   "outputs": [
    {
     "data": {
      "text/plain": [
       "<Response [200]>"
      ]
     },
     "execution_count": 12,
     "metadata": {},
     "output_type": "execute_result"
    }
   ],
   "source": [
    "forest.search(raw=True)"
   ]
  },
  {
   "cell_type": "code",
   "execution_count": null,
   "id": "45f2f809",
   "metadata": {},
   "outputs": [],
   "source": []
  }
 ],
 "metadata": {
  "kernelspec": {
   "display_name": "Python 3 (ipykernel)",
   "language": "python",
   "name": "python3"
  },
  "language_info": {
   "codemirror_mode": {
    "name": "ipython",
    "version": 3
   },
   "file_extension": ".py",
   "mimetype": "text/x-python",
   "name": "python",
   "nbconvert_exporter": "python",
   "pygments_lexer": "ipython3",
   "version": "3.9.7"
  }
 },
 "nbformat": 4,
 "nbformat_