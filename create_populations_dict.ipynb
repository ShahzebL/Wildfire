{
 "cells": [
  {
   "cell_type": "code",
   "execution_count": 2,
   "id": "09390773-226c-451e-be85-a7617e759736",
   "metadata": {},
   "outputs": [],
   "source": [
    "import numpy as np\n",
    "import json"
   ]
  },
  {
   "cell_type": "code",
   "execution_count": 3,
   "id": "d060c388",
   "metadata": {},
   "outputs": [
    {
     "data": {
      "image/png": "[encoded data removed]",
      "text/plain": [
       "<Figure size 432x288 with 1 Axes>"
      ]
     },
     "metadata": {
      "needs_background": "light"
     },
     "output_type": "display_data"
    },
    {
     "data": {
      "text/plain": [
       "<AxesSubplot:>"
      ]
     },
     "execution_count": 3,
     "metadata": {},
     "output_type": "execute_result"
    }
   ],
   "source": [
    "import rasterio\n",
    "from rasterio.plot import show\n",
    "fp = 'gpw_v4_population_density_adjusted_to_2015_unwpp_country_totals_rev11_2020_30_sec.tif'\n",
    "img = rasterio.open(fp)\n",
    "show(img)"
   ]
  },
  {
   "cell_type": "code",
   "execution_count": 5,
   "id": "95ad0b3e",
   "metadata": {},
   "outputs": [
    {
     "name": "stdout",
     "output_type": "stream",
     "text": [
      "EPSG:4326\n"
     ]
    }
   ],
   "source": [
    "print(img.crs)"
   ]
  },
  {
   "cell_type": "code",
   "execution_count": 6,
   "id": "a2c5411a",
   "metadata": {},
   "outputs": [
    {
     "data": {
      "text/plain": [
       "Affine(0.00833333333333387, 0.0, -180.0,\n",
       "       0.0, -0.00833333333333387, 90.00000000001157)"
      ]
     },
     "execution_count": 6,
     "metadata": {},
     "output_type": "execute_result"
    }
   ],
   "source": [
    "affine = img.transform\n",
    "affine"
   ]
  },
  {
   "cell_type": "code",
   "execution_count": 7,
   "id": "3ffec6c9",
   "metadata": {},
   "outputs": [
    {
     "data": {
      "text/plain": [
       "933120000"
      ]
     },
     "execution_count": 7,
     "metadata": {},
     "output_type": "execute_result"
    }
   ],
   "source": [
    "imarray = img.read(1)\n",
    "imarray.size"
   ]
  },
  {
   "cell_type": "code",
   "execution_count": null,
   "id": "aea9ccee",
   "metadata": {},
   "outputs": [],
   "source": [
    "#-124.409591\t32.534156\t-114.131211\t42.009518"
   ]
  },
  {
   "cell_type": "code",
   "execution_count": 54,
   "id": "ac8757a4",
   "metadata": {},
   "outputs": [
    {
     "data": {
      "text/plain": [
       "(-124.40833333332975, 42.00833333334182)"
      ]
     },
     "execution_count": 54,
     "metadata": {},
     "output_type": "execute_result"
    }
   ],
   "source": [
    "affine * (6671, 5759)"
   ]
  },
  {
   "cell_type": "code",
   "execution_count": 71,
   "id": "265cdbf8",
   "metadata": {},
   "outputs": [
    {
     "data": {
      "text/plain": [
       "(-114.13333333332909, 32.533333333341204)"
      ]
     },
     "execution_count": 71,
     "metadata": {},
     "output_type": "execute_result"
    }
   ],
   "source": [
    "affine * (7904, 6896)"
   ]
  },
  {
   "cell_type": "code",
   "execution_count": 79,
   "id": "0512a1bc",
   "metadata": {},
   "outputs": [
    {
     "data": {
      "text/plain": [
       "(1233,)"
      ]
     },
     "execution_count": 79,
     "metadata": {},
     "output_type": "execute_result"
    }
   ],
   "source": [
    "portion[0][6671:7904].shape"
   ]
  },
  {
   "cell_type": "code",
   "execution_count": 80,
   "id": "f645b610",
   "metadata": {},
   "outputs": [
    {
     "data": {
      "image/png": "[encoded data removed]",
      "text/plain": [
       "<Figure size 432x288 with 1 Axes>"
      ]
     },
     "metadata": {
      "needs_background": "light"
     },
     "output_type": "display_data"
    },
    {
     "data": {
      "text/plain": [
       "<AxesSubplot:>"
      ]
     },
     "execution_count": 80,
     "metadata": {},
     "output_type": "execute_result"
    }
   ],
   "source": [
    "portion = imarray[5759:6896]\n",
    "new_arr = []\n",
    "for i in range(len(portion)):\n",
    "    new_arr.append(portion[i][6671:7904])\n",
    "show(new_arr)"
   ]
  },
  {
   "cell_type": "code",
   "execution_count": 8,
   "id": "172019af",
   "metadata": {},
   "outputs": [
    {
     "data": {
      "text/plain": [
       "(39.53775311661699, -121.27206566921241)"
      ]
     },
     "execution_count": 8,
     "metadata": {},
     "output_type": "execute_result"
    }
   ],
   "source": [
    "# from pyproj import Transformer\n",
    "# transformer = Transformer.from_crs(\"epsg:32610\", \"epsg:4326\")#Change to 32610 which is the salo epsg\n",
    "# transformer.transform(648490.0, 4377880.0)"
   ]
  },
  {
   "cell_type": "code",
   "execution_count": 82,
   "id": "310c1de3",
   "metadata": {},
   "outputs": [
    {
     "data": {
      "text/plain": [
       "(1137, 1233)"
      ]
     },
     "execution_count": 82,
     "metadata": {},
     "output_type": "execute_result"
    }
   ],
   "source": [
    "len(new_arr), len(new_arr[0])"
   ]
  },
  {
   "cell_type": "code",
   "execution_count": 7,
   "id": "dbc52a1f",
   "metadata": {},
   "outputs": [
    {
     "data": {
      "text/plain": [
       "((-180.0, 90.00000000001157), (180.00000000002314, -90.0))"
      ]
     },
     "execution_count": 7,
     "metadata": {},
     "output_type": "execute_result"
    }
   ],
   "source": [
    "origin = affine * (0, 0)\n",
    "end = affine * (len(imarray[0]), len(imarray))\n",
    "origin, end"
   ]
  },
  {
   "cell_type": "code",
   "execution_count": 8,
   "id": "600cc854",
   "metadata": {},
   "outputs": [
    {
     "data": {
      "text/plain": [
       "BoundingBox(left=-180.0, bottom=-90.0, right=180.00000000002314, top=90.00000000001157)"
      ]
     },
     "execution_count": 8,
     "metadata": {},
     "output_type": "execute_result"
    }
   ],
   "source": [
    "img.bounds"
   ]
  },
  {
   "cell_type": "code",
   "execution_count": 86,
   "id": "95fa7bec",
   "metadata": {},
   "outputs": [
    {
     "name": "stdout",
     "output_type": "stream",
     "text": [
      "27%\n",
      "28%\n",
      "29%\n",
      "30%\n",
      "31%\n"
     ]
    }
   ],
   "source": [
    "d = {}\n",
    "i = 5759\n",
    "while i < len(new_arr) + 5759:\n",
    "    j = 6671\n",
    "    epsg_coords = affine * (j, i)\n",
    "    latitude = epsg_coords[1]\n",
    "    while j < len(new_arr[0]) + 6671:\n",
    "        epsg_coords = affine * (j, i)\n",
    "        longitude = epsg_coords[0]\n",
    "        d[str(latitude) + \", \" + str(longitude)] = imarray[i][j]\n",
    "        j += 1\n",
    "    i += 1\n",
    "    if i % (len(imarray) // 100) == 0:\n",
    "        print(str(int((i+1) / len(imarray) * 100)) + \"%\")"
   ]
  },
  {
   "cell_type": "code",
   "execution_count": 87,
   "id": "d64ab422",
   "metadata": {},
   "outputs": [
    {
     "data": {
      "text/plain": [
       "1401921"
      ]
     },
     "execution_count": 87,
     "metadata": {},
     "output_type": "execute_result"
    }
   ],
   "source": [
    "len(d)"
   ]
  },
  {
   "cell_type": "code",
   "execution_count": null,
   "id": "51373f85",
   "metadata": {
    "scrolled": true
   },
   "outputs": [],
   "source": [
    "# d = {}\n",
    "# i = 0\n",
    "# while i < int(len(imarray) / 2):\n",
    "#     j = 0\n",
    "#     epsg_coords = affine * (2 * j + 0.5, 2 * i + 0.5)\n",
    "#     lat_long_coords = transformer.transform(epsg_coords[0], epsg_coords[1])\n",
    "#     latitude = lat_long_coordas[0]\n",
    "# #     latitude = topmost - i * 2 * delta_lat - 0.5 * delta_lat\n",
    "#     row1 = imarray[2 * i]\n",
    "#     row2 = imarray[2 * i + 1]\n",
    "    \n",
    "#     while j < int(len(imarray[0]) / 2):\n",
    "#         epsg_coords = affine * (2 * j + 0.5, 2 * i + 0.5)\n",
    "#         lat_long_coords = transformer.transform(epsg_coords[0], epsg_coords[1])\n",
    "#         longitude = lat_long_coords[1]\n",
    "# #         longitude = leftmost + j * 2 * delta_long + 0.5 * delta_long\n",
    "#         d[str(latitude) + \", \" + str(longitude)] = (row1[2 * j] + row1[2 * j + 1] + row2[2 * j] + row2[2 * j + 1]) / 4\n",
    "#         j += 1\n",
    "#     if j < len(imarray[0]) / 2:\n",
    "#         epsg_coords = affine * (2 * j + 0.5, 2 * i + 0.5)\n",
    "#         lat_long_coords = transformer.transform(epsg_coords[0], epsg_coords[1])\n",
    "#         longitude = lat_long_coords[1]\n",
    "#         d[str(latitude) + \", \" + str(longitude)] = (row1[2 * j] + row2[2 * j]) / 2\n",
    "#     i += 1\n",
    "#     if i % (len(imarray) // 100) == 0:\n",
    "#         print(str(int(i / len(imarray) * 200)) + \"%\")\n",
    "# if i < len(imarray) / 2:\n",
    "#     j = 0\n",
    "#     epsg_coords = affine * (2 * j + 0.5, 2 * i + 0.5)\n",
    "#     lat_long_coords = transformer.transform(epsg_coords[0], epsg_coords[1])\n",
    "#     latitude = lat_long_coords[0]\n",
    "#     while j < int(len(imarray[0]) / 2):\n",
    "#         epsg_coords = affine * (2 * j + 0.5, 2 * i + 0.5)\n",
    "#         lat_long_coords = transformer.transform(epsg_coords[0], epsg_coords[1])\n",
    "#         longitude = lat_long_coords[1]\n",
    "#         d[str(latitude) + \", \" + str(longitude)] = (row1[2 * j] + row1[2 * j + 1] + row2[2 * j] + row2[2 * j + 1]) / 4\n",
    "#         j += 1\n",
    "#     if j < len(imarray[0]) / 2:\n",
    "#         epsg_coords = affine * (2 * j + 0.5, 2 * i + 0.5)\n",
    "#         lat_long_coords = transformer.transform(epsg_coords[0], epsg_coords[1])\n",
    "#         longitude = lat_long_coords[1]\n",
    "#         d[str(latitude) + \", \" + str(longitude)] = (row1[2 * j] + row2[2 * j]) / 2"
   ]
  },
  {
   "cell_type": "code",
   "execution_count": 88,
   "id": "edf61e3e-bdbf-4a21-ac34-cff4e9cae8df",
   "metadata": {},
   "outputs": [
    {
     "data": {
      "text/plain": [
       "1401921"
      ]
     },
     "execution_count": 88,
     "metadata": {},
     "output_type": "execute_result"
    }
   ],
   "source": [
    "len(d.keys())"
   ]
  },
  {
   "cell_type": "code",
   "execution_count": 89,
   "id": "d73815ae",
   "metadata": {},
   "outputs": [],
   "source": [
    "d_key_list = list(d.keys())"
   ]
  },
  {
   "cell_type": "code",
   "execution_count": 91,
   "id": "e844604d-a53a-476a-8020-74dbb188f502",
   "metadata": {},
   "outputs": [
    {
     "data": {
      "text/plain": [
       "'36.20000000000811, -119.41666666666276'"
      ]
     },
     "execution_count": 91,
     "metadata": {},
     "output_type": "execute_result"
    }
   ],
   "source": [
    "d_key_list[860000]"
   ]
  },
  {
   "cell_type": "code",
   "execution_count": 92,
   "id": "08e15d79-9c77-45d0-b8ae-f8915c254481",
   "metadata": {},
   "outputs": [],
   "source": [
    "rightmost = -150\n",
    "leftmost = 0\n",
    "topmost = 20\n",
    "bottommost = 80"
   ]
  },
  {
   "cell_type": "code",
   "execution_count": 93,
   "id": "e83ca437-3306-4442-bf1a-858d44967fbc",
   "metadata": {},
   "outputs": [],
   "source": [
    "for coord in d_key_list:\n",
    "    lat = float(coord.split(\", \")[0])\n",
    "    long = float(coord.split(\", \")[1])\n",
    "    if long < leftmost:\n",
    "        leftmost = long\n",
    "    if long > rightmost:\n",
    "        rightmost = long\n",
    "    if lat > topmost:\n",
    "        topmost = lat\n",
    "    if lat < bottommost:\n",
    "        bottommost = lat"
   ]
  },
  {
   "cell_type": "code",
   "execution_count": 94,
   "id": "2402ab0e-0f0b-4b80-993c-638b21146b74",
   "metadata": {},
   "outputs": [
    {
     "data": {
      "text/plain": [
       "(-114.14166666666243,\n",
       " -124.40833333332975,\n",
       " 42.00833333334182,\n",
       " 32.54166666667454)"
      ]
     },
     "execution_count": 94,
     "metadata": {},
     "output_type": "execute_result"
    }
   ],
   "source": [
    "rightmost, leftmost, topmost, bottommost"
   ]
  },
  {
   "cell_type": "code",
   "execution_count": 96,
   "id": "430610de",
   "metadata": {},
   "outputs": [
    {
     "data": {
      "text/plain": [
       "9.98922"
      ]
     },
     "execution_count": 96,
     "metadata": {},
     "output_type": "execute_result"
    }
   ],
   "source": [
    "d[d_key_list[860000]]"
   ]
  },
  {
   "cell_type": "code",
   "execution_count": 97,
   "id": "04d548cf-c946-4435-8568-304d6d5306e4",
   "metadata": {},
   "outputs": [],
   "source": [
    "import pickle\n",
    "pickle_out = open(\"CaliforniaPopulationLongLat.pickle\", \"wb\")\n",
    "pickle.dump(d, pickle_out)\n",
    "pickle_out.close()"
   ]
  },
  {
   "cell_type": "code",
   "execution_count": null,
   "id": "e01f7066-3a93-4b97-bb6b-009771c5d0a3",
   "metadata": {},
   "outputs": [],
   "source": [
    "d_key_list[0]"
   ]
  },
  {
   "cell_type": "code",
   "execution_count": null,
   "id": "a37e3cba-e492-439f-a7db-2316317fd2ba",
   "metadata": {},
   "outputs": [],
   "source": [
    "d[d_key_list[0]]"
   ]
  }
 ],
 "metadata": {
  "kernelspec": {
   "display_name": "Python 3",
   "language": "python",
   "name": "python3"
  },
  "language_info": {
   "codemirror_mode": {
    "name": "ipython",
    "version": 3
   },
   "file_extension": ".py",
   "mimetype": "text/x-python",
   "name": "python",
   "nbconvert_exporter": "python",
   "pygments_lexer": "ipython3",
   "version": "3.9.5"
  }
 },
 "nbformat": 4,
 "nbformat_minor": 5
}
