{
 "cells": [
  {
   "cell_type": "code",
   "execution_count": 1,
   "id": "63c8baa4",
   "metadata": {},
   "outputs": [],
   "source": [
    "from arcgis.gis import GIS"
   ]
  },
  {
   "cell_type": "code",
   "execution_count": 2,
   "id": "8db36696",
   "metadata": {},
   "outputs": [],
   "source": [
    "gis = GIS()"
   ]
  },
  {
   "cell_type": "code",
   "execution_count": 3,
   "id": "13163f97",
   "metadata": {},
   "outputs": [],
   "source": [
    "from arcgis.geocoding import reverse_geocode\n",
    "location= { \"x\": 11563503, \"y\": 148410, \"spatialReference\": { \"wkid\": 3857 } }"
   ]
  },
  {
   "cell_type": "code",
   "execution_count": 4,
   "id": "ff2a6ef6",
   "metadata": {},
   "outputs": [],
   "source": [
    "results = reverse_geocode([-121.89, 37.2])"
   ]
  },
  {
   "cell_type": "code",
   "execution_count": 5,
   "id": "82d96830",
   "metadata": {
    "scrolled": true
   },
   "outputs": [
    {
     "data": {
      "text/plain": [
       "{'address': {'Match_addr': 'Sierra Azul Open Space Preserve',\n",
       "  'LongLabel': 'Sierra Azul Open Space Preserve, Mt Umunhum Rd, Los Gatos, CA, 95033, USA',\n",
       "  'ShortLabel': 'Sierra Azul Open Space Preserve',\n",
       "  'Addr_type': 'POI',\n",
       "  'Type': 'Park',\n",
       "  'PlaceName': 'Sierra Azul Open Space Preserve',\n",
       "  'AddNum': '',\n",
       "  'Address': 'Mt Umunhum Rd',\n",
       "  'Block': '',\n",
       "  'Sector': '',\n",
       "  'Neighborhood': '',\n",
       "  'District': '',\n",
       "  'City': 'Los Gatos',\n",
       "  'MetroArea': 'San Francisco Bay Area',\n",
       "  'Subregion': 'Santa Clara County',\n",
       "  'Region': 'California',\n",
       "  'Territory': '',\n",
       "  'Postal': '95033',\n",
       "  'PostalExt': '',\n",
       "  'CountryCode': 'USA'},\n",
       " 'location': {'x': -121.89,\n",
       "  'y': 37.2,\n",
       "  'spatialReference': {'wkid': 4326, 'latestWkid': 4326}}}"
      ]
     },
     "execution_count": 5,
     "metadata": {},
     "output_type": "execute_result"
    }
   ],
   "source": [
    "results"
   ]
  },
  {
   "cell_type": "code",
   "execution_count": 7,
   "id": "d766670d",
   "metadata": {},
   "outputs": [],
   "source": [
    "# location, distance, out_sr, return_intersection"
   ]
  },
  {
   "cell_type": "code",
   "execution_count": 8,
   "id": "aed1af7c",
   "metadata": {},
   "outputs": [],
   "source": [
    "import pickle\n",
    "pickle_in = open(\"SantaClaraFuelLongLat.pickle\",\"rb\")\n",
    "d = pickle.load(pickle_in)"
   ]
  },
  {
   "cell_type": "code",
   "execution_count": 9,
   "id": "c51e0f26",
   "metadata": {},
   "outputs": [
    {
     "data": {
      "text/plain": [
       "(7042, 2)"
      ]
     },
     "execution_count": 9,
     "metadata": {},
     "output_type": "execute_result"
    }
   ],
   "source": [
    "import numpy as np\n",
    "import json\n",
    "with open(\"us-county-boundaries-santa-clara.json\") as f:\n",
    "  data = json.load(f)\n",
    "coords = data[0]['fields']['geo_shape'][\"coordinates\"][0]\n",
    "arr = np.array(coords)\n",
    "arr.shape"
   ]
  },
  {
   "cell_type": "code",
   "execution_count": 10,
   "id": "e9594b26",
   "metadata": {},
   "outputs": [],
   "source": [
    "from shapely.geometry import Point\n",
    "from shapely.geometry.polygon import Polygon\n",
    "\n",
    "point = Point(-121.7, 37.2)\n",
    "polygon = Polygon(arr)"
   ]
  },
  {
   "cell_type": "code",
   "execution_count": 11,
   "id": "a5ad7677",
   "metadata": {},
   "outputs": [
    {
     "data": {
      "text/plain": [
       "True"
      ]
     },
     "execution_count": 11,
     "metadata": {},
     "output_type": "execute_result"
    }
   ],
   "source": [
    "polygon.contains(point)"
   ]
  },
  {
   "cell_type": "code",
   "execution_count": null,
   "id": "1f0d0b5e",
   "metadata": {},
   "outputs": [],
   "source": [
    "d_key_list = list(d.keys())"
   ]
  },
  {
   "cell_type": "code",
   "execution_count": null,
   "id": "d6236cd8",
   "metadata": {},
   "outputs": [],
   "source": [
    "i = 0\n",
    "first = d_key_list[0].split(\", \")[0]\n",
    "while first == d_key_list[i].split(\", \")[0]:\n",
    "    i += 1"
   ]
  },
  {
   "cell_type": "code",
   "execution_count": null,
   "id": "c452d5a3",
   "metadata": {},
   "outputs": [],
   "source": [
    "dim = (len(d_key_list) // i, i)\n",
    "dim"
   ]
  },
  {
   "cell_type": "code",
   "execution_count": null,
   "id": "66e757da",
   "metadata": {},
   "outputs": [],
   "source": [
    "import pickle\n",
    "import time\n",
    "print(time.time())\n",
    "tick = 0\n",
    "for i, key in enumerate(d_key_list):\n",
    "    lat = float(key.split(\", \")[0])\n",
    "    long = float(key.split(\", \")[1])\n",
    "    point = Point(long, lat)\n",
    "    if polygon.contains(point):  \n",
    "        results = reverse_geocode([long, lat])\n",
    "        pickle_out = open(f\"ArcGIS_api_results_santa_clara/testresult{tick}.pickle\", \"wb\")\n",
    "        pickle.dump(results, pickle_out)\n",
    "        pickle_out.close()\n",
    "        tick += 1\n",
    "    if i % (len(d_key_list) // 1000) == 0:\n",
    "        print(str((i + 1) / len(d_key_list * 100) + \"%\"))\n",
    "        print(time.time())"
   ]
  },
  {
   "cell_type": "code",
   "execution_count": 16,
   "id": "060cf8b7",
   "metadata": {},
   "outputs": [
    {
     "name": "stdout",
     "output_type": "stream",
     "text": [
      "1629414862.2816288\n",
      "1629414867.258383\n"
     ]
    }
   ],
   "source": [
    "import time\n",
    "print(time.time())\n",
    "for i in range(50):\n",
    "    results = reverse_geocode([-121.7, 37.2])\n",
    "print(time.time())\n",
    "    "
   ]
  },
  {
   "cell_type": "code",
   "execution_count": null,
   "id": "a0e04bd2",
   "metadata": {},
   "outputs": [],
   "source": [
    "# will take 11 days to run"
   ]
  }
 ],
 "metadata": {
  "kernelspec": {
   "display_name": "Python 3",
   "language": "python",
   "name": "python3"
  },
  "language_info": {
   "codemirror_mode": {
    "name": "ipython",
    "version": 3
   },
   "file_extension": ".py",
   "mimetype": "text/x-python",
   "name": "python",
   "nbconvert_exporter": "python",
   "pygments_lexer": "ipython3",
   "version": "3.9.5"
  }
 },
 "nbformat": 4,
 "nbformat_minor": 5
}
