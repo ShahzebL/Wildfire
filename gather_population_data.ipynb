{
 "cells": [
  {
   "cell_type": "code",
   "execution_count": 7,
   "id": "2c8fed43-a9ca-4b95-baa1-76cbf56f74c1",
   "metadata": {},
   "outputs": [
    {
     "ename": "ModuleNotFoundError",
     "evalue": "No module named 'selenium'",
     "output_type": "error",
     "traceback": [
      "\u001b[0;31m---------------------------------------------------------------------------\u001b[0m",
      "\u001b[0;31mModuleNotFoundError\u001b[0m                       Traceback (most recent call last)",
      "\u001b[0;32m<ipython-input-7-eb501f03d021>\u001b[0m in \u001b[0;36m<module>\u001b[0;34m\u001b[0m\n\u001b[1;32m      1\u001b[0m \u001b[0;32mimport\u001b[0m \u001b[0mnumpy\u001b[0m \u001b[0;32mas\u001b[0m \u001b[0mnp\u001b[0m\u001b[0;34m\u001b[0m\u001b[0;34m\u001b[0m\u001b[0m\n\u001b[0;32m----> 2\u001b[0;31m \u001b[0;32mimport\u001b[0m \u001b[0mselenium\u001b[0m\u001b[0;34m\u001b[0m\u001b[0;34m\u001b[0m\u001b[0m\n\u001b[0m",
      "\u001b[0;31mModuleNotFoundError\u001b[0m: No module named 'selenium'"
     ]
    }
   ],
   "source": [
    "import numpy as np\n",
    "import selenium"
   ]
  },
  {
   "cell_type": "code",
   "execution_count": 2,
   "id": "95985449-ecfe-4653-92ac-1e16e36a306a",
   "metadata": {},
   "outputs": [],
   "source": [
    "url = \"https://sedac.ciesin.columbia.edu/mapping/popest/pes-v3/\""
   ]
  },
  {
   "cell_type": "code",
   "execution_count": 3,
   "id": "f6d535ee-d628-4b6f-aa66-7fe4441878fb",
   "metadata": {},
   "outputs": [],
   "source": []
  },
  {
   "cell_type": "code",
   "execution_count": 5,
   "id": "674e6a68-48c9-4ee3-807c-c3ebfa0aafb8",
   "metadata": {},
   "outputs": [
    {
     "data": {
      "text/plain": [
       "'\\n<!DOCTYPE html>\\n<html>\\n<head>\\n  <title>NASA SEDAC Population Estimator</title>\\n  <meta charset=\"utf-8\" />\\n  <meta http-equiv=\"X-UA-Compatible\" content=\"IE=EDGE\" />\\n\\n    <!-- Mobile meta tags-->\\n    <meta name=\"HandheldFriendly\" content=\"True\">\\n    <meta name=\"viewport\" content=\"width=device-width, initial-scale=1.0, maximum-scale=1.0, user-scalable=no\" />\\n  <meta name=\"MobileOptimized\" content=\"320\"/>\\n  <meta name=\"apple-mobile-web-app-capable\" content=\"yes\">\\n  <meta http-equiv=\"cleartype\" content=\"on\">\\n  <link rel=\"stylesheet\" href=\"https://netdna.bootstrapcdn.com/bootstrap/3.1.1/css/bootstrap.min.css\">\\n  <link rel=\"stylesheet\" href=\"libs/leaflet.css\" />\\n  <link rel=\"stylesheet\" href=\"libs/leaflet.draw.css\" />\\n  <link rel=\"stylesheet\" href=\"libs/tips.css\" />\\n  <link rel=\"stylesheet\" href=\"libs/leaflet.groupedlayercontrol.css\" />\\n  <link rel=\"stylesheet\" href=\"libs/leaflet.wmslegend.css\"/>\\n  <link rel=\"stylesheet\" href=\"https://maxcdn.bootstrapcdn.com/bootstrap/3.3.6/css/bootstrap.min.css\" integrity=\"sha384-1q8mTJOASx8j1Au+a5WDVnPi2lkFfwwEAa8hDDdjZlpLegxhjVME1fgjWPGmkzs7\" crossorigin=\"anonymous\">\\n    <!-- Optional theme -->\\n    <link rel=\"stylesheet\" href=\"https://maxcdn.bootstrapcdn.com/bootstrap/3.3.6/css/bootstrap-theme.min.css\" integrity=\"sha384-fLW2N01lMqjakBkx3l/M9EahuwpSfeNvV63J5ezn3uZzapT0u7EYsXMjQV+0En5r\" crossorigin=\"anonymous\">\\n  <link rel=\"stylesheet\" href=\"/gInc/css/bootstrap-responsive.css\" type=\"text/css\">\\n  <link rel=\"stylesheet\" href=\"libs/style.css\" />\\n  <link rel=\"stylesheet\" href=\"//cdn.jsdelivr.net/leaflet.esri.geocoder/1.0.2/esri-leaflet-geocoder.css\">\\n  \\n  <!--[if lte IE 8]>\\n    <link rel=\"stylesheet\" href=\"libs/leaflet.ie.css\" />\\n    <link rel=\"stylesheet\" href=\"libs/leaflet.draw.ie.css\" />\\n  <![endif]-->\\n  <style>\\n    text {\\n          text-decoration: none !important;\\n      }\\n\\n      #container {    \\n          height: 250px;\\n          margin-top: 2em;\\n          min-width: 300px;\\n      }\\n      .highcharts-xaxis-url {\\n          pointer-events: none;\\n          cursor: default;\\n      }\\n      .highcharts-data-table table {\\n          border-collapse: collapse;\\n          border-spacing: 0;\\n          background: white;\\n          min-width: 100%;\\n          margin-top: 10px;\\n      }\\n      .highcharts-data-table td, .highcharts-data-table th {\\n          font-family: sans-serif;\\n          font-size: 10pt;\\n          border: 1px solid silver;\\n          padding: 0.5em;\\n      }\\n      .highcharts-data-table tr:nth-child(even), .highcharts-data-table thead tr {\\n          background: #f8f8f8;\\n      }\\n      .highcharts-data-table tr:hover {\\n          background: #eff;\\n      }\\n      .leaflet-popup-content {min-width: 500px !important;}\\n\\n      .chart-button {display: inline;}\\n    </style>\\n  \\n    <script src=\"https://code.jquery.com/jquery-3.1.1.min.js\"></script>\\n    <script src=\"https://netdna.bootstrapcdn.com/bootstrap/3.1.1/js/bootstrap.min.js\"></script>\\n    <script type=\"text/javascript\" src=\"js/xml2json.js\"></script>\\n  <script src=\"libs/leaflet.js\"></script>\\n  <script src=\"libs/leaflet.providers.js\"></script>\\n  <script src=\"libs/leaflet.draw.js\"></script>\\n  <script src=\"libs/leaflet.groupedlayercontrol.js\"></script>\\n  <script src=\"libs/leaflet.wmslegend.js\"></script>\\n  <!-- Load Esri Leaflet from CDN -->\\n    <script src=\"https://cdn.jsdelivr.net/leaflet.esri/1.0.0/esri-leaflet.js\"></script>\\n    <script src=\"https://cdn.jsdelivr.net/leaflet.esri.geocoder/1.0.2/esri-leaflet-geocoder.js\"></script>\\n  <!-- Highchart Libraries from CDN -->\\n  <script src=\"https://code.highcharts.com/highcharts.js\"></script>\\n  <script src=\"https://code.highcharts.com/modules/data.js\"></script>\\n  <script src=\"https://code.highcharts.com/modules/drilldown.js\"></script>\\n  <script src=\"https://code.highcharts.com/modules/exporting.js\"></script>\\n  <script src=\"https://code.highcharts.com/modules/export-data.js\"></script>\\n\\n  <script type=\"text/javascript\" src=\"/SSI/ga360/ga360-script.js\"></script>\\n\\n</head>\\n<body>  \\n<!-- Google Tag Manager (noscript) -->\\n<noscript><iframe src=\"https://www.googletagmanager.com/ns.html?id=GTM-WNP7MLF\"\\nheight=\"0\" width=\"0\" style=\"display:none;visibility:hidden\"></iframe></noscript>\\n<!-- End Google Tag Manager (noscript) -->\\n\\n\\n\\n  <nav class=\"navbar navbar-inverse navbar-fixed-top\" role=\"navigation\">\\n        <!-- We use the fluid option here to avoid overriding the fixed width of a normal container within the narrow content columns. -->\\n        <div class=\"container-fluid\" id=\"first-container\">\\n          <div class=\"navbar-header\">\\n            <button type=\"button\" class=\"navbar-toggle\" data-toggle=\"collapse\" data-target=\"#bs-example-navbar-collapse-6\">\\n              <span class=\"sr-only\">Toggle navigation</span>\\n              <span class=\"icon-bar\"></span>\\n              <span class=\"icon-bar\"></span>\\n              <span class=\"icon-bar\"></span>\\n              <span class=\"icon-bar\"></span>\\n            </button>\\n            <h2 id=\"page-head\" style=\"color:#ccc;\">\\n              <a type=\"button\" href=\"https://earthdata.nasa.gov\"><img src=\"/imgs/nasa_meatball.png\" height=\"40\" width=\"50\" border=\"0\" style=\"display:inline\"/></a> <a href=\"/\" type=\"button\"><img src=\"/mapping/gmis-hbase/imgs/sedac-logo.jpg\" height=\"40\" width=\"37\" style=\"display:inline\"/></a>\\n              SEDAC Population Estimation Service\\n            </h2>\\n          </div>\\n\\n          <div class=\"collapse navbar-collapse\" id=\"bs-example-navbar-collapse-6\">\\n            <ul class=\"nav navbar-nav navbar-right\">\\n              <li class=\"active\">\\n                <div class=\"btn-toolbar\" role=\"toolbar\">\\n                  <div id=\"btn-group\">\\n                    <a href=\"#\" id=\"reset\" onClick=\"window.location.reload()\" type=\"button\" data-rel=\"tooltip\" data-placement=\"bottom\" title=\"Reset Map\" class=\"btn btn-info\"><span class=\"glyphicon glyphicon-refresh\"></span></a>\\n                  </div>\\n                </div>\\n\\n\\n              </li>\\n            </ul>\\n          </div><!-- /.navbar-collapse -->\\n        </div>\\n    </nav>\\n\\n  <div id=\"loading-image\"><img src=\"libs/images/loading.gif\"/></div>  \\n  <div id=\"map\"></div>\\n  <div id=\"table-container\"></div>\\n\\n    <!-- The point-buffer-modal -->\\n      <div class=\"modal fade\" id=\"point-buffer-modal\" tabindex=\"-1\" role=\"dialog\" aria-labelledby=\"errors-noticeLabel\" aria-hidden=\"true\" data-backdrop=\"static\">\\n        <div class=\"modal-dialog\">\\n          <div class=\"modal-content\">\\n            <div class=\"modal-header\">\\n              <h2 class=\"modal-title\" id=\"errors-noticeLabel\"><span class=\"glyphicon glyphicon-screenshot\"></span>  Point Buffering Tool</h2>\\n            </div>\\n            <div class=\"modal-body\">\\n              <div class=\"container\">\\n                <div class=\"row\">\\n                    <form role=\"form\">\\n                        <div class=\"row\" style=\"margin-left: 5px !important;\">\\n                            <div class=\"form-group col-xs-3\">\\n                                    <label for=\"longitude\">Longitude</label>  (-179 to 179)\\n                                    <input type=\"text\" class=\"form-control\" id=\"longitude\">\\n                                </div>\\n                                <div class=\"form-group col-xs-3\">\\n                                    <label for=\"latitude\">Latitude</label> (-89 to 89) \\n                                    <input type=\"text\" class=\"form-control\" id=\"latitude\">\\n                                </div>\\n                         </div>\\n                        <div class=\"row\" style=\"margin-left: 5px !important;\">               \\n                                <div class=\"form-group col-xs-3\">\\n                                    <label for=\"radius\">Radius</label>\\n                                    <input type=\"text\" class=\"form-control\" id=\"radius\">\\n                                </div>\\n                                <div class=\"form-group col-xs-2\">\\n                                    <label for=\"unit\">&nbsp;</label>\\n                                      <select class=\"form-control\" id=\"unit\">\\n                                        <option selected>km</option>\\n                                        <option>miles</option>\\n                                      </select>\\n                                </div>  \\n                        </div>\\n                      </form>\\n                </div>\\n            </div>\\n              \\n            </div>\\n            <div class=\"modal-footer\">\\n              <button type=\"button\" class=\"btn btn-default\" data-dismiss=\"modal\">Cancel</button> \\n              <button id=\"point-buffer-submit\" class=\"btn btn-primary start\" type=\"button\" name=\"point-buffer-submit\" data-loading-text=\"<i class=\\'icon-upload icon-white\\'></i>\">Ok</button>\\n            </div>\\n          </div>\\n        </div>\\n      </div><!--end The point-buffer-modal-->\\n\\n  </div>\\n  \\n  <script type=\"text/javascript\" src=\"js/script.js\"></script>\\n</body>\\n</html>\\n'"
      ]
     },
     "execution_count": 5,
     "metadata": {},
     "output_type": "execute_result"
    }
   ],
   "source": []
  },
  {
   "cell_type": "code",
   "execution_count": null,
   "id": "d163c4e4-2b52-4111-aa64-12570f0e9c08",
   "metadata": {},
   "outputs": [],
   "source": []
  }
 ],
 "metadata": {
  "kernelspec": {
   "display_name": "Python 3",
   "language": "python",
   "name": "python3"
  },
  "language_info": {
   "codemirror_mode": {
    "name": "ipython",
    "version": 3
   },
   "file_extension": ".py",
   "mimetype": "text/x-python",
   "name": "python",
   "nbconvert_exporter": "python",
   "pygments_lexer": "ipython3",
   "version": "3.7.7"
  }
 },
 "nbformat": 4,
 "nbformat_minor": 5
}
