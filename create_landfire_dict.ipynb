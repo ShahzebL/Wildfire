{
 "cells": [
  {
   "cell_type": "code",
   "execution_count": 1,
   "id": "09390773-226c-451e-be85-a7617e759736",
   "metadata": {
    "collapsed": true,
    "jupyter": {
     "outputs_hidden": true
    }
   },
   "outputs": [],
   "source": [
    "import numpy as np\n",
    "import json"
   ]
  },
  {
   "cell_type": "code",
   "execution_count": 2,
   "id": "d060c388",
   "metadata": {
    "collapsed": true,
    "jupyter": {
     "outputs_hidden": true
    }
   },
   "outputs": [],
   "source": [
    "import rasterio\n",
    "from rasterio.plot import show\n",
    "fp = 'Fuel_Vegetation_Cover_CONUS.tif'\n",
    "img = rasterio.open(fp)\n",
    "# show(img)"
   ]
  },
  {
   "cell_type": "code",
   "execution_count": 3,
   "id": "95ad0b3e",
   "metadata": {
    "collapsed": true,
    "jupyter": {
     "outputs_hidden": true
    }
   },
   "outputs": [
    {
     "name": "stdout",
     "output_type": "stream",
     "text": [
      "EPSG:5070\n"
     ]
    }
   ],
   "source": [
    "print(img.crs)"
   ]
  },
  {
   "cell_type": "code",
   "execution_count": 4,
   "id": "a2c5411a",
   "metadata": {
    "collapsed": true,
    "jupyter": {
     "outputs_hidden": true
    }
   },
   "outputs": [
    {
     "data": {
      "text/plain": [
       "Affine(30.0, 0.0, -2362395.000000001,\n",
       "       0.0, -30.0, 3267405.0000000037)"
      ]
     },
     "execution_count": 4,
     "metadata": {},
     "output_type": "execute_result"
    }
   ],
   "source": [
    "affine = img.transform\n",
    "affine"
   ]
  },
  {
   "cell_type": "code",
   "execution_count": 5,
   "id": "3ffec6c9",
   "metadata": {
    "collapsed": true,
    "jupyter": {
     "outputs_hidden": true
    }
   },
   "outputs": [
    {
     "data": {
      "text/plain": [
       "15873943230"
      ]
     },
     "execution_count": 5,
     "metadata": {},
     "output_type": "execute_result"
    }
   ],
   "source": [
    "imarray = img.read(1)\n",
    "imarray.size"
   ]
  },
  {
   "cell_type": "code",
   "execution_count": 9,
   "id": "dd9318bc-f66a-4e96-b876-3852af987db1",
   "metadata": {
    "tags": []
   },
   "outputs": [
    {
     "data": {
      "text/plain": [
       "(48.751523450250666, -128.3869052521)"
      ]
     },
     "execution_count": 9,
     "metadata": {},
     "output_type": "execute_result"
    }
   ],
   "source": [
    "from pyproj import Transformer\n",
    "transformer = Transformer.from_crs(\"epsg:5070\", \"epsg:4326\")#Change to 32610 which is the salo epsg\n",
    "transformer.transform(affine[2], affine[5])"
   ]
  },
  {
   "cell_type": "code",
   "execution_count": 185,
   "id": "a6e4f44d-05c9-4ff0-8b9b-e06617cd4205",
   "metadata": {
    "tags": []
   },
   "outputs": [
    {
     "data": {
      "text/plain": [
       "((-2362395.000000001, 3267405.0000000037),\n",
       " (2327654.999999999, 221265.00000000373))"
      ]
     },
     "execution_count": 185,
     "metadata": {},
     "output_type": "execute_result"
    }
   ],
   "source": [
    "origin = affine * (0, 0)\n",
    "end = affine * (len(imarray[0]), len(imarray))\n",
    "origin, end"
   ]
  },
  {
   "cell_type": "code",
   "execution_count": 184,
   "id": "1a9c6c34-ac3d-4ab6-b9f7-b9d8101c5089",
   "metadata": {
    "tags": []
   },
   "outputs": [
    {
     "data": {
      "text/plain": [
       "((48.751523450250666, -128.3869052521),\n",
       " (22.503620023791562, -73.63564467897385))"
      ]
     },
     "execution_count": 184,
     "metadata": {},
     "output_type": "execute_result"
    }
   ],
   "source": [
    "ori_lat_long_coords = transformer.transform(origin[0], origin[1])\n",
    "end_lat_long_coords = transformer.transform(end[0], end[1])\n",
    "ori_lat_long_coords, end_lat_long_coords"
   ]
  },
  {
   "cell_type": "code",
   "execution_count": null,
   "id": "52fd8466-3592-46de-9ef7-e6032ef41205",
   "metadata": {
    "collapsed": true,
    "jupyter": {
     "outputs_hidden": true
    }
   },
   "outputs": [],
   "source": [
    "#((37.48908544352257, -122.20127766290896),\n",
    "# (36.888272429602885, -121.21243727715039))"
   ]
  },
  {
   "cell_type": "code",
   "execution_count": null,
   "id": "0818f943-a22f-4ca1-9dfe-6a4184c9315d",
   "metadata": {
    "collapsed": true,
    "jupyter": {
     "outputs_hidden": true
    }
   },
   "outputs": [],
   "source": [
    "#((-2265846.2014394025, 1919911.179234505),\n",
    " #(-2200042.216985933, 1831798.4959051241))"
   ]
  },
  {
   "cell_type": "code",
   "execution_count": 14,
   "id": "6f1b63b2-0bc4-4060-b889-5908bef87a47",
   "metadata": {
    "collapsed": true,
    "jupyter": {
     "outputs_hidden": true
    }
   },
   "outputs": [
    {
     "data": {
      "text/plain": [
       "(101538, 156335)"
      ]
     },
     "execution_count": 14,
     "metadata": {},
     "output_type": "execute_result"
    }
   ],
   "source": [
    "imarray.shape"
   ]
  },
  {
   "cell_type": "code",
   "execution_count": 141,
   "id": "ac8757a4",
   "metadata": {
    "tags": []
   },
   "outputs": [
    {
     "name": "stdout",
     "output_type": "stream",
     "text": [
      "(-2265855.000000001, 1919925.0000000037) (37.48918273648383, -122.20141728528925)\n"
     ]
    }
   ],
   "source": [
    "test = affine * (3218, 44916)\n",
    "print(test, transformer.transform(test[0], test[1]))"
   ]
  },
  {
   "cell_type": "code",
   "execution_count": 150,
   "id": "265cdbf8",
   "metadata": {
    "collapsed": true,
    "jupyter": {
     "outputs_hidden": true
    }
   },
   "outputs": [
    {
     "name": "stdout",
     "output_type": "stream",
     "text": [
      "(-2200035.000000001, 1831785.0000000037) (36.88817308005652, -121.2123183188361)\n"
     ]
    }
   ],
   "source": [
    "test2 = affine * (5412, 47854)\n",
    "print(test2, transformer.transform(test2[0], test2[1]))"
   ]
  },
  {
   "cell_type": "code",
   "execution_count": 180,
   "id": "f645b610",
   "metadata": {
    "tags": []
   },
   "outputs": [
    {
     "data": {
      "image/png": "[encoded data removed]",
      "text/plain": [
       "<Figure size 432x288 with 1 Axes>"
      ]
     },
     "metadata": {
      "needs_background": "light"
     },
     "output_type": "display_data"
    },
    {
     "data": {
      "text/plain": [
       "<AxesSubplot:>"
      ]
     },
     "execution_count": 180,
     "metadata": {},
     "output_type": "execute_result"
    }
   ],
   "source": [
    "portion = imarray[44916:47854]\n",
    "new_arr = []\n",
    "for i in range(len(portion)):\n",
    "    new_arr.append(portion[i][3218:5412])\n",
    "show(new_arr)"
   ]
  },
  {
   "cell_type": "code",
   "execution_count": 181,
   "id": "dd13b530-543a-4806-b146-8a2f275d0f3c",
   "metadata": {
    "tags": []
   },
   "outputs": [],
   "source": [
    "new_arr = np.array(new_arr)"
   ]
  },
  {
   "cell_type": "code",
   "execution_count": 179,
   "id": "94585283-1e1c-41d4-a45f-3859e38d1dca",
   "metadata": {
    "tags": []
   },
   "outputs": [
    {
     "data": {
      "text/plain": [
       "(2938, 2194)"
      ]
     },
     "execution_count": 179,
     "metadata": {},
     "output_type": "execute_result"
    }
   ],
   "source": [
    "new_arr.shape"
   ]
  },
  {
   "cell_type": "code",
   "execution_count": 8,
   "id": "172019af",
   "metadata": {
    "collapsed": true,
    "jupyter": {
     "outputs_hidden": true
    }
   },
   "outputs": [
    {
     "data": {
      "text/plain": [
       "(39.53775311661699, -121.27206566921241)"
      ]
     },
     "execution_count": 8,
     "metadata": {},
     "output_type": "execute_result"
    }
   ],
   "source": [
    "# from pyproj import Transformer\n",
    "# transformer = Transformer.from_crs(\"epsg:32610\", \"epsg:4326\")#Change to 32610 which is the salo epsg\n",
    "# transformer.transform(648490.0, 4377880.0)"
   ]
  },
  {
   "cell_type": "code",
   "execution_count": 168,
   "id": "dbc52a1f",
   "metadata": {
    "collapsed": true,
    "jupyter": {
     "outputs_hidden": true
    }
   },
   "outputs": [
    {
     "data": {
      "text/plain": [
       "((-2362395.000000001, 3267405.0000000037),\n",
       " (2327654.999999999, 221265.00000000373))"
      ]
     },
     "execution_count": 168,
     "metadata": {},
     "output_type": "execute_result"
    }
   ],
   "source": [
    "origin = affine * (0, 0)\n",
    "end = affine * (len(imarray[0]), len(imarray))\n",
    "origin, end"
   ]
  },
  {
   "cell_type": "code",
   "execution_count": 169,
   "id": "600cc854",
   "metadata": {
    "tags": []
   },
   "outputs": [
    {
     "data": {
      "text/plain": [
       "BoundingBox(left=-2362395.000000001, bottom=221265.00000000373, right=2327654.999999999, top=3267405.0000000037)"
      ]
     },
     "execution_count": 169,
     "metadata": {},
     "output_type": "execute_result"
    }
   ],
   "source": [
    "img.bounds"
   ]
  },
  {
   "cell_type": "code",
   "execution_count": 196,
   "id": "95fa7bec",
   "metadata": {
    "scrolled": true,
    "tags": []
   },
   "outputs": [
    {
     "name": "stdout",
     "output_type": "stream",
     "text": [
      "1%\n",
      "2%\n",
      "2%\n",
      "3%\n",
      "4%\n",
      "5%\n",
      "6%\n",
      "7%\n",
      "8%\n",
      "9%\n",
      "10%\n",
      "11%\n",
      "12%\n",
      "13%\n",
      "14%\n",
      "15%\n",
      "16%\n",
      "17%\n",
      "18%\n",
      "19%\n",
      "20%\n",
      "21%\n",
      "22%\n",
      "23%\n",
      "24%\n",
      "25%\n",
      "26%\n",
      "27%\n",
      "28%\n",
      "29%\n",
      "30%\n",
      "31%\n",
      "32%\n",
      "33%\n",
      "34%\n",
      "35%\n",
      "36%\n",
      "37%\n",
      "38%\n",
      "39%\n",
      "40%\n",
      "41%\n",
      "42%\n",
      "43%\n",
      "44%\n",
      "45%\n",
      "46%\n",
      "47%\n",
      "48%\n",
      "49%\n",
      "50%\n",
      "51%\n",
      "52%\n",
      "53%\n",
      "54%\n",
      "55%\n",
      "56%\n",
      "57%\n",
      "58%\n",
      "59%\n",
      "60%\n",
      "61%\n",
      "62%\n",
      "63%\n",
      "64%\n",
      "65%\n",
      "66%\n",
      "67%\n",
      "68%\n",
      "69%\n",
      "70%\n",
      "71%\n",
      "72%\n",
      "73%\n",
      "74%\n",
      "75%\n",
      "76%\n",
      "77%\n",
      "78%\n",
      "78%\n",
      "79%\n",
      "80%\n",
      "81%\n",
      "82%\n",
      "83%\n",
      "84%\n",
      "85%\n",
      "86%\n",
      "87%\n",
      "88%\n",
      "89%\n",
      "90%\n",
      "91%\n",
      "92%\n",
      "93%\n",
      "94%\n",
      "95%\n",
      "96%\n",
      "97%\n",
      "98%\n",
      "99%\n"
     ]
    }
   ],
   "source": [
    "d = {}\n",
    "i = 44916\n",
    "while i < len(new_arr) + 44916:\n",
    "    j = 3218\n",
    "    while j < len(new_arr[0]) + 3218:\n",
    "        epsg_coords = affine * (j, i)\n",
    "        x = epsg_coords[0]\n",
    "        y = epsg_coords[1]\n",
    "        (latitude, longitude) = transformer.transform(x, y)\n",
    "        d[str(latitude) + \", \" + str(longitude)] = imarray[i][j]\n",
    "        j += 1\n",
    "    i += 1\n",
    "    if (i - 44916) % (len(new_arr) // 100) == 0:\n",
    "        print(str(int((i-44915) / len(new_arr) * 100)) + \"%\")"
   ]
  },
  {
   "cell_type": "code",
   "execution_count": null,
   "id": "1ad1e24e-f16d-4fa3-94fe-ed5a5b10433a",
   "metadata": {
    "collapsed": true,
    "jupyter": {
     "outputs_hidden": true
    }
   },
   "outputs": [],
   "source": [
    "# 6,445,972"
   ]
  },
  {
   "cell_type": "code",
   "execution_count": 197,
   "id": "d64ab422",
   "metadata": {
    "tags": []
   },
   "outputs": [
    {
     "data": {
      "text/plain": [
       "6445972"
      ]
     },
     "execution_count": 197,
     "metadata": {},
     "output_type": "execute_result"
    }
   ],
   "source": [
    "len(d)"
   ]
  },
  {
   "cell_type": "code",
   "execution_count": null,
   "id": "51373f85",
   "metadata": {
    "collapsed": true,
    "jupyter": {
     "outputs_hidden": true
    },
    "scrolled": true
   },
   "outputs": [],
   "source": [
    "# d = {}\n",
    "# i = 0\n",
    "# while i < int(len(imarray) / 2):\n",
    "#     j = 0\n",
    "#     epsg_coords = affine * (2 * j + 0.5, 2 * i + 0.5)\n",
    "#     lat_long_coords = transformer.transform(epsg_coords[0], epsg_coords[1])\n",
    "#     latitude = lat_long_coordas[0]\n",
    "# #     latitude = topmost - i * 2 * delta_lat - 0.5 * delta_lat\n",
    "#     row1 = imarray[2 * i]\n",
    "#     row2 = imarray[2 * i + 1]\n",
    "    \n",
    "#     while j < int(len(imarray[0]) / 2):\n",
    "#         epsg_coords = affine * (2 * j + 0.5, 2 * i + 0.5)\n",
    "#         lat_long_coords = transformer.transform(epsg_coords[0], epsg_coords[1])\n",
    "#         longitude = lat_long_coords[1]\n",
    "# #         longitude = leftmost + j * 2 * delta_long + 0.5 * delta_long\n",
    "#         d[str(latitude) + \", \" + str(longitude)] = (row1[2 * j] + row1[2 * j + 1] + row2[2 * j] + row2[2 * j + 1]) / 4\n",
    "#         j += 1\n",
    "#     if j < len(imarray[0]) / 2:\n",
    "#         epsg_coords = affine * (2 * j + 0.5, 2 * i + 0.5)\n",
    "#         lat_long_coords = transformer.transform(epsg_coords[0], epsg_coords[1])\n",
    "#         longitude = lat_long_coords[1]\n",
    "#         d[str(latitude) + \", \" + str(longitude)] = (row1[2 * j] + row2[2 * j]) / 2\n",
    "#     i += 1\n",
    "#     if i % (len(imarray) // 100) == 0:\n",
    "#         print(str(int(i / len(imarray) * 200)) + \"%\")\n",
    "# if i < len(imarray) / 2:\n",
    "#     j = 0\n",
    "#     epsg_coords = affine * (2 * j + 0.5, 2 * i + 0.5)\n",
    "#     lat_long_coords = transformer.transform(epsg_coords[0], epsg_coords[1])\n",
    "#     latitude = lat_long_coords[0]\n",
    "#     while j < int(len(imarray[0]) / 2):\n",
    "#         epsg_coords = affine * (2 * j + 0.5, 2 * i + 0.5)\n",
    "#         lat_long_coords = transformer.transform(epsg_coords[0], epsg_coords[1])\n",
    "#         longitude = lat_long_coords[1]\n",
    "#         d[str(latitude) + \", \" + str(longitude)] = (row1[2 * j] + row1[2 * j + 1] + row2[2 * j] + row2[2 * j + 1]) / 4\n",
    "#         j += 1\n",
    "#     if j < len(imarray[0]) / 2:\n",
    "#         epsg_coords = affine * (2 * j + 0.5, 2 * i + 0.5)\n",
    "#         lat_long_coords = transformer.transform(epsg_coords[0], epsg_coords[1])\n",
    "#         longitude = lat_long_coords[1]\n",
    "#         d[str(latitude) + \", \" + str(longitude)] = (row1[2 * j] + row2[2 * j]) / 2"
   ]
  },
  {
   "cell_type": "code",
   "execution_count": 198,
   "id": "edf61e3e-bdbf-4a21-ac34-cff4e9cae8df",
   "metadata": {
    "tags": []
   },
   "outputs": [
    {
     "data": {
      "text/plain": [
       "6445972"
      ]
     },
     "execution_count": 198,
     "metadata": {},
     "output_type": "execute_result"
    }
   ],
   "source": [
    "len(d.keys())"
   ]
  },
  {
   "cell_type": "code",
   "execution_count": 199,
   "id": "d73815ae",
   "metadata": {
    "tags": []
   },
   "outputs": [],
   "source": [
    "d_key_list = list(d.keys())"
   ]
  },
  {
   "cell_type": "code",
   "execution_count": 200,
   "id": "e844604d-a53a-476a-8020-74dbb188f502",
   "metadata": {
    "tags": []
   },
   "outputs": [
    {
     "data": {
      "text/plain": [
       "'37.542577422809366, -121.45710890058366'"
      ]
     },
     "execution_count": 200,
     "metadata": {},
     "output_type": "execute_result"
    }
   ],
   "source": [
    "d_key_list[860000]"
   ]
  },
  {
   "cell_type": "code",
   "execution_count": 201,
   "id": "08e15d79-9c77-45d0-b8ae-f8915c254481",
   "metadata": {
    "tags": []
   },
   "outputs": [],
   "source": [
    "rightmost = -150\n",
    "leftmost = 0\n",
    "topmost = 20\n",
    "bottommost = 80"
   ]
  },
  {
   "cell_type": "code",
   "execution_count": 202,
   "id": "e83ca437-3306-4442-bf1a-858d44967fbc",
   "metadata": {
    "tags": []
   },
   "outputs": [],
   "source": [
    "for coord in d_key_list:\n",
    "    lat = float(coord.split(\", \")[0])\n",
    "    long = float(coord.split(\", \")[1])\n",
    "    if long < leftmost:\n",
    "        leftmost = long\n",
    "    if long > rightmost:\n",
    "        rightmost = long\n",
    "    if lat > topmost:\n",
    "        topmost = lat\n",
    "    if lat < bottommost:\n",
    "        bottommost = lat"
   ]
  },
  {
   "cell_type": "code",
   "execution_count": 203,
   "id": "2402ab0e-0f0b-4b80-993c-638b21146b74",
   "metadata": {
    "tags": []
   },
   "outputs": [
    {
     "data": {
      "text/plain": [
       "(-121.21273530228194,\n",
       " -122.20141728528925,\n",
       " 37.64683690948743,\n",
       " 36.73225442280849)"
      ]
     },
     "execution_count": 203,
     "metadata": {},
     "output_type": "execute_result"
    }
   ],
   "source": [
    "rightmost, leftmost, topmost, bottommost"
   ]
  },
  {
   "cell_type": "code",
   "execution_count": 209,
   "id": "430610de",
   "metadata": {
    "tags": []
   },
   "outputs": [
    {
     "data": {
      "text/plain": [
       "103"
      ]
     },
     "execution_count": 209,
     "metadata": {},
     "output_type": "execute_result"
    }
   ],
   "source": [
    "d[d_key_list[860000]]"
   ]
  },
  {
   "cell_type": "code",
   "execution_count": 210,
   "id": "04d548cf-c946-4435-8568-304d6d5306e4",
   "metadata": {
    "tags": []
   },
   "outputs": [],
   "source": [
    "import pickle\n",
    "pickle_out = open(\"SantaClaraLandFireFuelLongLat.pickle\", \"wb\")\n",
    "pickle.dump(d, pickle_out)\n",
    "pickle_out.close()"
   ]
  },
  {
   "cell_type": "code",
   "execution_count": null,
   "id": "e01f7066-3a93-4b97-bb6b-009771c5d0a3",
   "metadata": {
    "collapsed": true,
    "jupyter": {
     "outputs_hidden": true
    }
   },
   "outputs": [],
   "source": [
    "d_key_list[0]"
   ]
  },
  {
   "cell_type": "code",
   "execution_count": null,
   "id": "a37e3cba-e492-439f-a7db-2316317fd2ba",
   "metadata": {
    "collapsed": true,
    "jupyter": {
     "outputs_hidden": true
    }
   },
   "outputs": [],
   "source": [
    "d[d_key_list[0]]"
   ]
  }
 ],
 "metadata": {
  "kernelspec": {
   "display_name": "Python 3",
   "language": "python",
   "name": "python3"
  },
  "language_info": {
   "codemirror_mode": {
    "name": "ipython",
    "version": 3
   },
   "file_extension": ".py",
   "mimetype": "text/x-python",
   "name": "python",
   "nbconvert_exporter": "python",
   "pygments_lexer": "ipython3",
   "version": "3.9.5"
  }
 },
 "nbformat": 4,
 "nbformat_minor": 5
}
