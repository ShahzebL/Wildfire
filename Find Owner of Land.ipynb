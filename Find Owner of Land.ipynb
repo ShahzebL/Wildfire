{
 "cells": [
  {
   "cell_type": "code",
   "execution_count": 1,
   "id": "3b407b8c",
   "metadata": {},
   "outputs": [
    {
     "ename": "ModuleNotFoundError",
     "evalue": "No module named 'geopandas'",
     "output_type": "error",
     "traceback": [
      "\u001b[0;31m---------------------------------------------------------------------------\u001b[0m",
      "\u001b[0;31mModuleNotFoundError\u001b[0m                       Traceback (most recent call last)",
      "\u001b[0;32m<ipython-input-1-8448411a13a9>\u001b[0m in \u001b[0;36m<module>\u001b[0;34m\u001b[0m\n\u001b[1;32m      2\u001b[0m \u001b[0mdirectory\u001b[0m \u001b[0;34m=\u001b[0m \u001b[0;34m\"PADUS\"\u001b[0m\u001b[0;34m\u001b[0m\u001b[0;34m\u001b[0m\u001b[0m\n\u001b[1;32m      3\u001b[0m \u001b[0;32mimport\u001b[0m \u001b[0mos\u001b[0m\u001b[0;34m\u001b[0m\u001b[0;34m\u001b[0m\u001b[0m\n\u001b[0;32m----> 4\u001b[0;31m \u001b[0;32mimport\u001b[0m \u001b[0mgeopandas\u001b[0m \u001b[0;32mas\u001b[0m \u001b[0mgpd\u001b[0m\u001b[0;34m\u001b[0m\u001b[0;34m\u001b[0m\u001b[0m\n\u001b[0m\u001b[1;32m      5\u001b[0m \u001b[0;31m# Read the file\u001b[0m\u001b[0;34m\u001b[0m\u001b[0;34m\u001b[0m\u001b[0;34m\u001b[0m\u001b[0m\n\u001b[1;32m      6\u001b[0m \u001b[0mgeojsons\u001b[0m \u001b[0;34m=\u001b[0m \u001b[0;34m[\u001b[0m\u001b[0;34m]\u001b[0m\u001b[0;34m\u001b[0m\u001b[0;34m\u001b[0m\u001b[0m\n",
      "\u001b[0;31mModuleNotFoundError\u001b[0m: No module named 'geopandas'"
     ]
    }
   ],
   "source": [
    "# datastring = \"PADUS/PADUS2_1Proclamation_StateCA.json\"\n",
    "directory = \"PADUS\"\n",
    "import os\n",
    "import geopandas as gpd\n",
    "# Read the file\n",
    "geojsons = []\n",
    "for file in os.listdir(directory):\n",
    "    try:\n",
    "        geojsons.append(gpd.read_file(directory + \"/\" + file))\n",
    "    except:\n",
    "        pass"
   ]
  },
  {
   "cell_type": "code",
   "execution_count": 2,
   "id": "43ea2ec6",
   "metadata": {},
   "outputs": [
    {
     "ename": "NameError",
     "evalue": "name 'geojsons' is not defined",
     "output_type": "error",
     "traceback": [
      "\u001b[0;31m---------------------------------------------------------------------------\u001b[0m",
      "\u001b[0;31mNameError\u001b[0m                                 Traceback (most recent call last)",
      "\u001b[0;32m<ipython-input-2-a2e58bc573c3>\u001b[0m in \u001b[0;36m<module>\u001b[0;34m\u001b[0m\n\u001b[0;32m----> 1\u001b[0;31m \u001b[0mgeojsons\u001b[0m\u001b[0;34m[\u001b[0m\u001b[0;36m0\u001b[0m\u001b[0;34m]\u001b[0m\u001b[0;34m\u001b[0m\u001b[0;34m\u001b[0m\u001b[0m\n\u001b[0m",
      "\u001b[0;31mNameError\u001b[0m: name 'geojsons' is not defined"
     ]
    }
   ],
   "source": [
    "geojsons[0]"
   ]
  },
  {
   "cell_type": "code",
   "execution_count": 3,
   "id": "e886109b",
   "metadata": {},
   "outputs": [
    {
     "ename": "ModuleNotFoundError",
     "evalue": "No module named 'pyproj'",
     "output_type": "error",
     "traceback": [
      "\u001b[0;31m---------------------------------------------------------------------------\u001b[0m",
      "\u001b[0;31mModuleNotFoundError\u001b[0m                       Traceback (most recent call last)",
      "\u001b[0;32m<ipython-input-3-0ba645405026>\u001b[0m in \u001b[0;36m<module>\u001b[0;34m\u001b[0m\n\u001b[0;32m----> 1\u001b[0;31m \u001b[0;32mfrom\u001b[0m \u001b[0mpyproj\u001b[0m \u001b[0;32mimport\u001b[0m \u001b[0mTransformer\u001b[0m\u001b[0;34m\u001b[0m\u001b[0;34m\u001b[0m\u001b[0m\n\u001b[0m\u001b[1;32m      2\u001b[0m \u001b[0mtransformer\u001b[0m \u001b[0;34m=\u001b[0m \u001b[0mTransformer\u001b[0m\u001b[0;34m.\u001b[0m\u001b[0mfrom_crs\u001b[0m\u001b[0;34m(\u001b[0m\u001b[0;34m\"epsg:4326\"\u001b[0m\u001b[0;34m,\u001b[0m \u001b[0mgeojsons\u001b[0m\u001b[0;34m[\u001b[0m\u001b[0;36m0\u001b[0m\u001b[0;34m]\u001b[0m\u001b[0;34m.\u001b[0m\u001b[0mcrs\u001b[0m \u001b[0;34m)\u001b[0m\u001b[0;31m#Change to 32610 which is the salo epsg\u001b[0m\u001b[0;34m\u001b[0m\u001b[0;34m\u001b[0m\u001b[0m\n\u001b[1;32m      3\u001b[0m \u001b[0mtransformer\u001b[0m\u001b[0;34m.\u001b[0m\u001b[0mtransform\u001b[0m\u001b[0;34m(\u001b[0m\u001b[0;36m40.314762642668605\u001b[0m\u001b[0;34m,\u001b[0m \u001b[0;34m-\u001b[0m\u001b[0;36m120.3890093459391\u001b[0m\u001b[0;34m)\u001b[0m\u001b[0;34m\u001b[0m\u001b[0;34m\u001b[0m\u001b[0m\n",
      "\u001b[0;31mModuleNotFoundError\u001b[0m: No module named 'pyproj'"
     ]
    }
   ],
   "source": [
    "from pyproj import Transformer\n",
    "transformer = Transformer.from_crs(\"epsg:4326\", geojsons[0].crs )#Change to 32610 which is the salo epsg\n",
    "transformer.transform(40.314762642668605, -120.3890093459391)"
   ]
  },
  {
   "cell_type": "code",
   "execution_count": 4,
   "id": "b151d06f",
   "metadata": {},
   "outputs": [],
   "source": [
    "from shapely.geometry import Point, Polygon, shape"
   ]
  },
  {
   "cell_type": "code",
   "execution_count": 10,
   "id": "a657b41f",
   "metadata": {},
   "outputs": [
    {
     "name": "stdout",
     "output_type": "stream",
     "text": [
      "379028.23378149635\n"
     ]
    }
   ],
   "source": [
    "lat = 37.05046035241019\n",
    "long = -121.66162767643318\n",
    "xy = transformer.transform(lat, long)\n",
    "point = Point(xy)\n",
    "for index, row in geojsons[1].iterrows():\n",
    "    polygon = row['geometry']\n",
    "    print(polygon.distance(point))\n",
    "    break"
   ]
  },
  {
   "cell_type": "code",
   "execution_count": 5,
   "id": "18348971",
   "metadata": {},
   "outputs": [
    {
     "name": "stdout",
     "output_type": "stream",
     "text": [
      "OBJECTID                                                        1\n",
      "Category                                             Proclamation\n",
      "d_Category              Approved, Proclamation or Extent Boundary\n",
      "Own_Type                                                     DESG\n",
      "d_Own_Type                                            Designation\n",
      "Own_Name                                                     DESG\n",
      "d_Own_Name                                            Designation\n",
      "Loc_Own                                                          \n",
      "Mang_Type                                                     FED\n",
      "d_Mang_Type                                                  None\n",
      "Mang_Name                                                     FWS\n",
      "d_Mang_Name                                                  None\n",
      "Loc_Mang                                                        0\n",
      "Des_Tp                                                       PROC\n",
      "d_Des_Tp                        Approved or Proclamation Boundary\n",
      "Loc_Ds                                                      COORD\n",
      "Unit_Nm                      Honey Lake Waterfowl Management Area\n",
      "Loc_Nm                       HONEY LAKE WATERFOWL MANAGEMENT AREA\n",
      "State_Nm                                                       CA\n",
      "d_State_Nm                                             California\n",
      "Agg_Src                      FWS_PADUS2_1Proclamation_FWSApproved\n",
      "GIS_Src                                           FWSApproved.shp\n",
      "Src_Date                                               2019-12-04\n",
      "GIS_Acres                                                    1054\n",
      "Source_PAID                                                  None\n",
      "WDPA_Cd                                                         0\n",
      "Pub_Access                                                     UK\n",
      "d_Access                                                     None\n",
      "Access_Src                                          GAP - Default\n",
      "Access_Dt                                                    2020\n",
      "GAP_Sts                                                         4\n",
      "d_GAP_Sts        4 - no known mandate for biodiversity protection\n",
      "GAPCdSrc                                            GAP - Default\n",
      "GAPCdDt                                                      2020\n",
      "IUCN_Cat                                               Unassigned\n",
      "d_IUCN_Cat                                             Unassigned\n",
      "IUCNCtSrc                                           GAP - Default\n",
      "IUCNCtDt                                                     2020\n",
      "Date_Est                                                         \n",
      "Comments                             Needs to be split out in LRS\n",
      "SHAPE_Length                                         22890.393051\n",
      "SHAPE_Area                                          4265769.91092\n",
      "geometry        (POLYGON ((-2032330.1471 2184468.8704, -203222...\n",
      "Name: 0, dtype: object\n"
     ]
    }
   ],
   "source": [
    "lat = 40.313762642668605\n",
    "long = -120.3890093459391\n",
    "xy = transformer.transform(lat, long)\n",
    "point = Point(xy)\n",
    "for index, row in geojsons[1].iterrows():\n",
    "    polygon = row['geometry']\n",
    "    if polygon.contains(point):\n",
    "        print(row)"
   ]
  },
  {
   "cell_type": "code",
   "execution_count": 22,
   "id": "2d6550df",
   "metadata": {},
   "outputs": [],
   "source": [
    "def find_owner(lat, long):\n",
    "    min_distance = 99999999\n",
    "    min_distance_row = None\n",
    "    xy = transformer.transform(lat, long)\n",
    "    point = Point(xy)\n",
    "    for geojson in geojsons:\n",
    "        for index, row in geojson.iterrows():\n",
    "            polygon = row['geometry']\n",
    "            if polygon.contains(point):\n",
    "                return (0, row)\n",
    "            else:\n",
    "                if polygon.distance(point) < min_distance:\n",
    "                    min_distance = polygon.distance(point)\n",
    "                    min_distance_row = row\n",
    "    return (min_distance, min_distance_row)\n",
    "        "
   ]
  },
  {
   "cell_type": "code",
   "execution_count": 30,
   "id": "9d08d66e",
   "metadata": {
    "scrolled": true
   },
   "outputs": [],
   "source": [
    "md, mdr = find_owner(37.16240675684025, -121.75738896805109)"
   ]
  },
  {
   "cell_type": "code",
   "execution_count": 31,
   "id": "e8b73161",
   "metadata": {},
   "outputs": [
    {
     "data": {
      "text/plain": [
       "98.52357293119388"
      ]
     },
     "execution_count": 31,
     "metadata": {},
     "output_type": "execute_result"
    }
   ],
   "source": [
    "md"
   ]
  },
  {
   "cell_type": "code",
   "execution_count": 32,
   "id": "006dc6b8",
   "metadata": {},
   "outputs": [
    {
     "data": {
      "text/plain": [
       "OBJECTID                                                    12819\n",
       "Category                                                      Fee\n",
       "d_Category                                                    Fee\n",
       "Own_Type                                                      LOC\n",
       "d_Own_Type                                       Local Government\n",
       "Own_Name                                                     CNTY\n",
       "d_Own_Name                                            County Land\n",
       "Loc_Own         Santa Clara County Parks and Recreation Dept.,...\n",
       "Mang_Type                                                     LOC\n",
       "d_Mang_Type                                                  None\n",
       "Mang_Name                                                    CNTY\n",
       "d_Mang_Name                                                  None\n",
       "Loc_Mang        Santa Clara County Parks and Recreation Dept.,...\n",
       "Des_Tp                                                         LP\n",
       "d_Des_Tp                                               Local Park\n",
       "Loc_Ds                                                 Local Park\n",
       "Unit_Nm                                        Calero County Park\n",
       "Loc_Nm                                         Calero County Park\n",
       "State_Nm                                                       CA\n",
       "d_State_Nm                                             California\n",
       "Agg_Src                                GIN_PADUS2_0_CPAD_2017a_CA\n",
       "GIS_Src                 CPAD_2017a_Units.shp (attributes: agency)\n",
       "Src_Date                                               2017-08-01\n",
       "GIS_Acres                                                    3488\n",
       "Source_PAID                                                  None\n",
       "WDPA_Cd                                                         0\n",
       "Pub_Access                                                     OA\n",
       "d_Access                                                     None\n",
       "Access_Src                                      GreenInfo Network\n",
       "Access_Dt                                                    2018\n",
       "GAP_Sts                                                         4\n",
       "d_GAP_Sts        4 - no known mandate for biodiversity protection\n",
       "GAPCdSrc                                        GreenInfo Network\n",
       "GAPCdDt                                                      2017\n",
       "IUCN_Cat                                               Unassigned\n",
       "d_IUCN_Cat                                             Unassigned\n",
       "IUCNCtSrc                                           GAP - Default\n",
       "IUCNCtDt                                                     2020\n",
       "Date_Est                                                         \n",
       "Comments                                                         \n",
       "SHAPE_Length                                         22215.614007\n",
       "SHAPE_Area                                        14117376.338512\n",
       "geometry        (POLYGON ((-2238985.6425 1872907.8595, -223892...\n",
       "Name: 12818, dtype: object"
      ]
     },
     "execution_count": 32,
     "metadata": {},
     "output_type": "execute_result"
    }
   ],
   "source": [
    "mdr"
   ]
  },
  {
   "cell_type": "code",
   "execution_count": 29,
   "id": "4caf9879",
   "metadata": {},
   "outputs": [
    {
     "data": {
      "text/plain": [
       "' '"
      ]
     },
     "execution_count": 29,
     "metadata": {},
     "output_type": "execute_result"
    }
   ],
   "source": [
    "mdr['Comments']"
   ]
  },
  {
   "cell_type": "code",
   "execution_count": null,
   "id": "830d2828",
   "metadata": {},
   "outputs": [],
   "source": []
  }
 ],
 "metadata": {
  "kernelspec": {
   "display_name": "Python 3",
   "language": "python",
   "name": "python3"
  },
  "language_info": {
   "codemirror_mode": {
    "name": "ipython",
    "version": 3
   },
   "file_extension": ".py",
   "mimetype": "text/x-python",
   "name": "python",
   "nbconvert_exporter": "python",
   "pygments_lexer": "ipython3",
   "version": "3.9.5"
  }
 },
 "nbformat": 4,
 "nbformat_minor": 5
}
