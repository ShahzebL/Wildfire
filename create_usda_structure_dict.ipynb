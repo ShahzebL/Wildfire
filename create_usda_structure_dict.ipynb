{
 "cells": [
  {
   "cell_type": "code",
   "execution_count": 14,
   "id": "09390773-226c-451e-be85-a7617e759736",
   "metadata": {},
   "outputs": [],
   "source": [
    "import numpy as np\n",
    "import json"
   ]
  },
  {
   "cell_type": "code",
   "execution_count": 15,
   "id": "d060c388",
   "metadata": {},
   "outputs": [],
   "source": [
    "import rasterio\n",
    "from rasterio.plot import show\n",
    "fp = 'CA/Structures-Population/HUDen_CA.tif'\n",
    "img = rasterio.open(fp)\n",
    "# show(img)"
   ]
  },
  {
   "cell_type": "code",
   "execution_count": 16,
   "id": "95ad0b3e",
   "metadata": {},
   "outputs": [
    {
     "name": "stdout",
     "output_type": "stream",
     "text": [
      "EPSG:5070\n"
     ]
    }
   ],
   "source": [
    "print(img.crs)"
   ]
  },
  {
   "cell_type": "code",
   "execution_count": 17,
   "id": "a2c5411a",
   "metadata": {},
   "outputs": [
    {
     "data": {
      "text/plain": [
       "Affine(30.0, 0.0, -2356125.0,\n",
       "       0.0, -30.0, 2452725.0)"
      ]
     },
     "execution_count": 17,
     "metadata": {},
     "output_type": "execute_result"
    }
   ],
   "source": [
    "affine = img.transform\n",
    "affine"
   ]
  },
  {
   "cell_type": "code",
   "execution_count": 18,
   "id": "d3a87e1c",
   "metadata": {},
   "outputs": [
    {
     "name": "stdout",
     "output_type": "stream",
     "text": [
      "23649\n",
      "40346\n",
      "1\n",
      "BoundingBox(left=-2356125.0, bottom=1242345.0, right=-1646655.0, top=2452725.0)\n",
      "GTiff\n"
     ]
    }
   ],
   "source": [
    "print(img.width)\n",
    "print(img.height)\n",
    "print(img.count)\n",
    "print(img.bounds)\n",
    "print(img.driver)"
   ]
  },
  {
   "cell_type": "code",
   "execution_count": 19,
   "id": "3ffec6c9",
   "metadata": {},
   "outputs": [],
   "source": [
    "imarray = img.read(1)"
   ]
  },
  {
   "cell_type": "code",
   "execution_count": 20,
   "id": "36df73c8",
   "metadata": {},
   "outputs": [],
   "source": [
    "#-124.409591\t32.534156\t-114.131211\t42.009518 California Bounding"
   ]
  },
  {
   "cell_type": "code",
   "execution_count": 21,
   "id": "172019af",
   "metadata": {},
   "outputs": [
    {
     "data": {
      "text/plain": [
       "(32.859809720792725, -113.803517692651)"
      ]
     },
     "execution_count": 21,
     "metadata": {},
     "output_type": "execute_result"
    }
   ],
   "source": [
    "from pyproj import Transformer\n",
    "transformer = Transformer.from_crs(img.crs, \"epsg:4326\")#Change to 32610 which is the salo epsg\n",
    "transformer.transform(-1646655, 1242345)"
   ]
  },
  {
   "cell_type": "code",
   "execution_count": 22,
   "id": "1a58b4aa",
   "metadata": {},
   "outputs": [],
   "source": [
    "# (41.8152747599704, -125.01334021680296) # (32.859809720792725, -113.803517692651)"
   ]
  },
  {
   "cell_type": "code",
   "execution_count": 23,
   "id": "310c1de3",
   "metadata": {},
   "outputs": [
    {
     "data": {
      "text/plain": [
       "(40346, 23649)"
      ]
     },
     "execution_count": 23,
     "metadata": {},
     "output_type": "execute_result"
    }
   ],
   "source": [
    "len(imarray), len(imarray[0])"
   ]
  },
  {
   "cell_type": "code",
   "execution_count": 24,
   "id": "dbc52a1f",
   "metadata": {},
   "outputs": [
    {
     "data": {
      "text/plain": [
       "((-2356125.0, 2452725.0), (-1646655.0, 1242345.0))"
      ]
     },
     "execution_count": 24,
     "metadata": {},
     "output_type": "execute_result"
    }
   ],
   "source": [
    "origin = affine * (0, 0)\n",
    "end = affine * (len(imarray[0]), len(imarray))\n",
    "origin, end"
   ]
  },
  {
   "cell_type": "code",
   "execution_count": 25,
   "id": "3719f411",
   "metadata": {},
   "outputs": [
    {
     "data": {
      "text/plain": [
       "((41.8152747599704, -125.01334021680296),\n",
       " (32.859809720792725, -113.803517692651))"
      ]
     },
     "execution_count": 25,
     "metadata": {},
     "output_type": "execute_result"
    }
   ],
   "source": [
    "ori_lat_long_coords = transformer.transform(origin[0], origin[1])\n",
    "end_lat_long_coords = transformer.transform(end[0], end[1])\n",
    "ori_lat_long_coords, end_lat_long_coords"
   ]
  },
  {
   "cell_type": "code",
   "execution_count": 26,
   "id": "885a8ff0",
   "metadata": {},
   "outputs": [],
   "source": [
    "Santa_Clara_Bounds = ((37.48908544352257, -122.20127766290896),  (36.888272429602885, -121.21243727715039))\n",
    "Nevada_Bounds = ((39.53775311661699, -121.27206566921241), (38.9831219249878, -120.01952940974721))"
   ]
  },
  {
   "cell_type": "code",
   "execution_count": 27,
   "id": "0cb27c28",
   "metadata": {},
   "outputs": [
    {
     "data": {
      "text/plain": [
       "(-2238210.688693346, 1855255.8714271209)"
      ]
     },
     "execution_count": 27,
     "metadata": {},
     "output_type": "execute_result"
    }
   ],
   "source": [
    "from pyproj import Transformer\n",
    "reverse_transformer = Transformer.from_crs(\"epsg:4326\", img.crs)#Change to 32610 which is the salo epsg\n",
    "reverse_transformer.transform(37, -121.7)"
   ]
  },
  {
   "cell_type": "code",
   "execution_count": 50,
   "id": "d4b3ce75",
   "metadata": {},
   "outputs": [
    {
     "data": {
      "text/plain": [
       "((-2200042.216985933, 1831798.4959051241),\n",
       " (-2265846.2014394025, 1919911.179234505))"
      ]
     },
     "execution_count": 50,
     "metadata": {},
     "output_type": "execute_result"
    }
   ],
   "source": [
    "bottom_right = reverse_transformer.transform(Santa_Clara_Bounds[1][0], Santa_Clara_Bounds[1][1])\n",
    "top_left = reverse_transformer.transform(Santa_Clara_Bounds[0][0], Santa_Clara_Bounds[0][1])\n",
    "bottom_right, top_left"
   ]
  },
  {
   "cell_type": "code",
   "execution_count": 58,
   "id": "393522b5",
   "metadata": {},
   "outputs": [
    {
     "data": {
      "text/plain": [
       "(-2200035.0, 1831785.0)"
      ]
     },
     "execution_count": 58,
     "metadata": {},
     "output_type": "execute_result"
    }
   ],
   "source": [
    "affine * (5203, 20698)"
   ]
  },
  {
   "cell_type": "code",
   "execution_count": 59,
   "id": "c8ae44df",
   "metadata": {},
   "outputs": [
    {
     "data": {
      "text/plain": [
       "(36.88817308005649, -121.21231831883607)"
      ]
     },
     "execution_count": 59,
     "metadata": {},
     "output_type": "execute_result"
    }
   ],
   "source": [
    "transformer.transform(-2200035.0, 1831785.0)"
   ]
  },
  {
   "cell_type": "code",
   "execution_count": 65,
   "id": "44d20bd5",
   "metadata": {},
   "outputs": [
    {
     "data": {
      "text/plain": [
       "(-2265855.0, 1919925.0)"
      ]
     },
     "execution_count": 65,
     "metadata": {},
     "output_type": "execute_result"
    }
   ],
   "source": [
    "affine * (3009, 17760)"
   ]
  },
  {
   "cell_type": "code",
   "execution_count": 66,
   "id": "1e1f63a0",
   "metadata": {},
   "outputs": [
    {
     "data": {
      "text/plain": [
       "(37.48918273648376, -122.20141728528922)"
      ]
     },
     "execution_count": 66,
     "metadata": {},
     "output_type": "execute_result"
    }
   ],
   "source": [
    "transformer.transform(-2265855.0, 1919925.0)"
   ]
  },
  {
   "cell_type": "code",
   "execution_count": 67,
   "id": "dbf59b11-0009-4625-b1d9-381133bcec29",
   "metadata": {},
   "outputs": [
    {
     "data": {
      "image/png": "[encoded data removed]",
      "text/plain": [
       "<Figure size 432x288 with 1 Axes>"
      ]
     },
     "metadata": {
      "needs_background": "light"
     },
     "output_type": "display_data"
    },
    {
     "data": {
      "text/plain": [
       "<AxesSubplot:>"
      ]
     },
     "execution_count": 67,
     "metadata": {},
     "output_type": "execute_result"
    }
   ],
   "source": [
    "portion = imarray[17760:20698]\n",
    "new_arr = []\n",
    "for i in range(len(portion)):\n",
    "    new_arr.append(portion[i][3009:5203])\n",
    "show(new_arr)"
   ]
  },
  {
   "cell_type": "code",
   "execution_count": null,
   "id": "1cec47cd",
   "metadata": {},
   "outputs": [],
   "source": [
    "#Santa Clara Bounds ((37.48908544352257, -122.20127766290896),   \n",
    " #(36.888272429602885, -121.21243727715039))\n",
    "#Nevada Bounds ((39.53775311661699, -121.27206566921241),\n",
    " #(38.9831219249878, -120.01952940974721))\n",
    "\n",
    "#Bottom left = (36.888272429602885, -122.20127766290896) \n",
    "#Top Right = (39.53775311661699, -120.01952940974721)"
   ]
  },
  {
   "cell_type": "code",
   "execution_count": 72,
   "id": "cb846912",
   "metadata": {
    "scrolled": true
   },
   "outputs": [
    {
     "name": "stdout",
     "output_type": "stream",
     "text": [
      "1%\n",
      "2%\n",
      "2%\n",
      "3%\n",
      "4%\n",
      "5%\n",
      "6%\n",
      "7%\n",
      "8%\n",
      "9%\n",
      "10%\n",
      "11%\n",
      "12%\n",
      "13%\n",
      "14%\n",
      "15%\n",
      "16%\n",
      "17%\n",
      "18%\n",
      "19%\n",
      "20%\n",
      "21%\n",
      "22%\n",
      "23%\n",
      "24%\n",
      "25%\n",
      "26%\n",
      "27%\n",
      "28%\n",
      "29%\n",
      "30%\n",
      "31%\n",
      "32%\n",
      "33%\n",
      "34%\n",
      "35%\n",
      "36%\n",
      "37%\n",
      "38%\n",
      "39%\n",
      "40%\n",
      "41%\n",
      "42%\n",
      "43%\n",
      "44%\n",
      "45%\n",
      "46%\n",
      "47%\n",
      "48%\n",
      "49%\n",
      "50%\n",
      "51%\n",
      "52%\n",
      "53%\n",
      "54%\n",
      "55%\n",
      "56%\n",
      "57%\n",
      "58%\n",
      "59%\n",
      "60%\n",
      "61%\n",
      "62%\n",
      "63%\n",
      "64%\n",
      "65%\n",
      "66%\n",
      "67%\n",
      "68%\n",
      "69%\n",
      "70%\n",
      "71%\n",
      "72%\n",
      "73%\n",
      "74%\n",
      "75%\n",
      "76%\n",
      "77%\n",
      "78%\n",
      "78%\n",
      "79%\n",
      "80%\n",
      "81%\n",
      "82%\n",
      "83%\n",
      "84%\n",
      "85%\n",
      "86%\n",
      "87%\n",
      "88%\n",
      "89%\n",
      "90%\n",
      "91%\n",
      "92%\n",
      "93%\n",
      "94%\n",
      "95%\n",
      "96%\n",
      "97%\n",
      "98%\n",
      "99%\n"
     ]
    }
   ],
   "source": [
    "d = {}\n",
    "i = 17760\n",
    "while i < len(new_arr) + 17760:\n",
    "    j = 3009\n",
    "    while j < len(new_arr[0]) + 3009:\n",
    "        epsg_coords = affine * (j, i)\n",
    "        x = epsg_coords[0]\n",
    "        y = epsg_coords[1]\n",
    "        (latitude, longitude) = transformer.transform(x, y)\n",
    "        d[str(latitude) + \", \" + str(longitude)] = imarray[i][j]\n",
    "        j += 1\n",
    "    i += 1\n",
    "    if (i - 17760) % (len(new_arr) // 100) == 0:\n",
    "        print(str(int((i-17759) / len(new_arr) * 100)) + \"%\")"
   ]
  },
  {
   "cell_type": "code",
   "execution_count": 73,
   "id": "f14174e3",
   "metadata": {},
   "outputs": [
    {
     "data": {
      "text/plain": [
       "13902"
      ]
     },
     "execution_count": 73,
     "metadata": {},
     "output_type": "execute_result"
    }
   ],
   "source": [
    "max(d.values())"
   ]
  },
  {
   "cell_type": "code",
   "execution_count": 74,
   "id": "1a8bedee",
   "metadata": {},
   "outputs": [
    {
     "data": {
      "text/plain": [
       "6445972"
      ]
     },
     "execution_count": 74,
     "metadata": {},
     "output_type": "execute_result"
    }
   ],
   "source": [
    "len(d)"
   ]
  },
  {
   "cell_type": "code",
   "execution_count": null,
   "id": "51373f85",
   "metadata": {
    "scrolled": true
   },
   "outputs": [],
   "source": [
    "# d = {}\n",
    "# i = 0\n",
    "# while i < int(len(imarray) / 2):\n",
    "#     j = 0\n",
    "#     epsg_coords = affine * (2 * j + 0.5, 2 * i + 0.5)\n",
    "#     lat_long_coords = transformer.transform(epsg_coords[0], epsg_coords[1])\n",
    "#     latitude = lat_long_coords[0]\n",
    "# #     latitude = topmost - i * 2 * delta_lat - 0.5 * delta_lat\n",
    "#     row1 = imarray[2 * i]\n",
    "#     row2 = imarray[2 * i + 1]\n",
    "    \n",
    "#     while j < int(len(imarray[0]) / 2):\n",
    "#         epsg_coords = affine * (2 * j + 0.5, 2 * i + 0.5)\n",
    "#         lat_long_coords = transformer.transform(epsg_coords[0], epsg_coords[1])\n",
    "#         longitude = lat_long_coords[1]\n",
    "# #         longitude = leftmost + j * 2 * delta_long + 0.5 * delta_long\n",
    "#         d[str(latitude) + \", \" + str(longitude)] = (row1[2 * j] + row1[2 * j + 1] + row2[2 * j] + row2[2 * j + 1]) / 4\n",
    "#         j += 1\n",
    "#     if j < len(imarray[0]) / 2:\n",
    "#         epsg_coords = affine * (2 * j + 0.5, 2 * i + 0.5)\n",
    "#         lat_long_coords = transformer.transform(epsg_coords[0], epsg_coords[1])\n",
    "#         longitude = lat_long_coords[1]\n",
    "#         d[str(latitude) + \", \" + str(longitude)] = (row1[2 * j] + row2[2 * j]) / 2\n",
    "#     i += 1\n",
    "#     if i % (len(imarray) // 100) == 0:\n",
    "#         print(str(int(i / len(imarray) * 200)) + \"%\")\n",
    "# if i < len(imarray) / 2:\n",
    "#     j = 0\n",
    "#     epsg_coords = affine * (2 * j + 0.5, 2 * i + 0.5)\n",
    "#     lat_long_coords = transformer.transform(epsg_coords[0], epsg_coords[1])\n",
    "#     latitude = lat_long_coords[0]\n",
    "#     while j < int(len(imarray[0]) / 2):\n",
    "#         epsg_coords = affine * (2 * j + 0.5, 2 * i + 0.5)\n",
    "#         lat_long_coords = transformer.transform(epsg_coords[0], epsg_coords[1])\n",
    "#         longitude = lat_long_coords[1]\n",
    "#         d[str(latitude) + \", \" + str(longitude)] = (row1[2 * j] + row1[2 * j + 1] + row2[2 * j] + row2[2 * j + 1]) / 4\n",
    "#         j += 1\n",
    "#     if j < len(imarray[0]) / 2:\n",
    "#         epsg_coords = affine * (2 * j + 0.5, 2 * i + 0.5)\n",
    "#         lat_long_coords = transformer.transform(epsg_coords[0], epsg_coords[1])\n",
    "#         longitude = lat_long_coords[1]\n",
    "#         d[str(latitude) + \", \" + str(longitude)] = (row1[2 * j] + row2[2 * j]) / 2"
   ]
  },
  {
   "cell_type": "code",
   "execution_count": 75,
   "id": "edf61e3e-bdbf-4a21-ac34-cff4e9cae8df",
   "metadata": {},
   "outputs": [
    {
     "data": {
      "text/plain": [
       "6445972"
      ]
     },
     "execution_count": 75,
     "metadata": {},
     "output_type": "execute_result"
    }
   ],
   "source": [
    "len(d.keys())"
   ]
  },
  {
   "cell_type": "code",
   "execution_count": 76,
   "id": "d73815ae",
   "metadata": {},
   "outputs": [],
   "source": [
    "d_key_list = list(d.keys())"
   ]
  },
  {
   "cell_type": "code",
   "execution_count": 77,
   "id": "e844604d-a53a-476a-8020-74dbb188f502",
   "metadata": {},
   "outputs": [
    {
     "data": {
      "text/plain": [
       "'37.542577422809316, -121.45710890058365'"
      ]
     },
     "execution_count": 77,
     "metadata": {},
     "output_type": "execute_result"
    }
   ],
   "source": [
    "d_key_list[860000]"
   ]
  },
  {
   "cell_type": "code",
   "execution_count": 78,
   "id": "08e15d79-9c77-45d0-b8ae-f8915c254481",
   "metadata": {},
   "outputs": [],
   "source": [
    "rightmost = -180\n",
    "leftmost = -100\n",
    "topmost = 20\n",
    "bottommost = 80"
   ]
  },
  {
   "cell_type": "code",
   "execution_count": 79,
   "id": "e83ca437-3306-4442-bf1a-858d44967fbc",
   "metadata": {},
   "outputs": [],
   "source": [
    "for coord in d_key_list:\n",
    "    lat = float(coord.split(\", \")[0])\n",
    "    long = float(coord.split(\", \")[1])\n",
    "    if long < leftmost:\n",
    "        leftmost = long\n",
    "    if long > rightmost:\n",
    "        rightmost = long\n",
    "    if lat > topmost:\n",
    "        topmost = lat\n",
    "    if lat < bottommost:\n",
    "        bottommost = lat"
   ]
  },
  {
   "cell_type": "code",
   "execution_count": 80,
   "id": "2402ab0e-0f0b-4b80-993c-638b21146b74",
   "metadata": {},
   "outputs": [
    {
     "data": {
      "text/plain": [
       "(-121.21273530228191,\n",
       " -122.20141728528922,\n",
       " 37.646836909487405,\n",
       " 36.732254422808445)"
      ]
     },
     "execution_count": 80,
     "metadata": {},
     "output_type": "execute_result"
    }
   ],
   "source": [
    "rightmost, leftmost, topmost, bottommost"
   ]
  },
  {
   "cell_type": "code",
   "execution_count": 81,
   "id": "430610de",
   "metadata": {},
   "outputs": [
    {
     "data": {
      "text/plain": [
       "0"
      ]
     },
     "execution_count": 81,
     "metadata": {},
     "output_type": "execute_result"
    }
   ],
   "source": [
    "d[d_key_list[860000]]"
   ]
  },
  {
   "cell_type": "code",
   "execution_count": 82,
   "id": "04d548cf-c946-4435-8568-304d6d5306e4",
   "metadata": {},
   "outputs": [],
   "source": [
    "import pickle\n",
    "pickle_out = open(\"SantaClaraStructureLongLatUSDA.pickle\", \"wb\")\n",
    "pickle.dump(d, pickle_out)\n",
    "pickle_out.close()"
   ]
  },
  {
   "cell_type": "code",
   "execution_count": null,
   "id": "e01f7066-3a93-4b97-bb6b-009771c5d0a3",
   "metadata": {},
   "outputs": [],
   "source": [
    "d_key_list[0]"
   ]
  },
  {
   "cell_type": "code",
   "execution_count": null,
   "id": "a37e3cba-e492-439f-a7db-2316317fd2ba",
   "metadata": {},
   "outputs": [],
   "source": [
    "d[d_key_list[0]]"
   ]
  }
 ],
 "metadata": {
  "kernelspec": {
   "display_name": "Python 3",
   "language": "python",
   "name": "python3"
  },
  "language_info": {
   "codemirror_mode": {
    "name": "ipython",
    "version": 3
   },
   "file_extension": ".py",
   "mimetype": "text/x-python",
   "name": "python",
   "nbconvert_exporter": "python",
   "pygments_lexer": "ipython3",
   "version": "3.9.5"
  }
 },
 "nbformat": 4,
 "nbformat_minor": 5
}
